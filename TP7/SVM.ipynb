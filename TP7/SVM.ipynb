{
 "cells": [
  {
   "cell_type": "markdown",
   "id": "cc134e99",
   "metadata": {},
   "source": [
    "Jonatan Baumgartner\n",
    "\n",
    "Massimo De Santis\n",
    "\n",
    "Florian Feuillade"
   ]
  },
  {
   "cell_type": "markdown",
   "id": "cde7679f",
   "metadata": {},
   "source": [
    "# Load MNIST digit dataset"
   ]
  },
  {
   "cell_type": "code",
   "execution_count": 1,
   "id": "5f97f915",
   "metadata": {},
   "outputs": [],
   "source": [
    "import os\n",
    "\n",
    "import numpy as np\n",
    "import matplotlib.pyplot as plt\n",
    "import pandas as pd\n",
    "\n",
    "from sklearn import svm\n",
    "from sklearn import preprocessing\n",
    "from sklearn.metrics import accuracy_score\n",
    "from sklearn.metrics import confusion_matrix\n",
    "from sklearn.metrics import classification_report\n",
    "from sklearn.model_selection import train_test_split\n",
    "from sklearn.model_selection import cross_val_score\n",
    "from sklearn.model_selection import GridSearchCV\n",
    "from sklearn.utils.multiclass import unique_labels\n",
    "\n",
    "plt.rcParams['figure.figsize'] = (10.0, 10.0)\n",
    "plt.rcParams['image.interpolation'] = 'nearest'\n",
    "plt.rcParams['image.cmap'] = 'gray'"
   ]
  },
  {
   "cell_type": "code",
   "execution_count": 2,
   "id": "d67494d8",
   "metadata": {},
   "outputs": [],
   "source": [
    "data = pd.read_csv('mnist_train.csv')\n",
    "X = data.drop('label', axis=1).values.reshape(-1,28,28)\n",
    "y = data['label'].values"
   ]
  },
  {
   "cell_type": "markdown",
   "id": "b37ee6a4",
   "metadata": {},
   "source": [
    "# Visualize the images of some digits of the MNIST database"
   ]
  },
  {
   "cell_type": "code",
   "execution_count": 3,
   "id": "d8f6e47a",
   "metadata": {},
   "outputs": [
    {
     "data": {
      "image/png": "[encoded data removed]",
      "text/plain": [
       "<Figure size 720x720 with 12 Axes>"
      ]
     },
     "metadata": {
      "needs_background": "light"
     },
     "output_type": "display_data"
    }
   ],
   "source": [
    "for i in range(4):\n",
    "    for j in range(3):\n",
    "        plt.subplot(3, 4, i+j*4+1)\n",
    "        plt.imshow(X[i+j*4].astype('uint8'))\n",
    "        plt.axis('off')\n",
    "plt.show()"
   ]
  },
  {
   "cell_type": "markdown",
   "id": "558eb7cf",
   "metadata": {},
   "source": [
    "# Build the final balanced training and test sets"
   ]
  },
  {
   "cell_type": "code",
   "execution_count": 4,
   "id": "2ee49964",
   "metadata": {},
   "outputs": [
    {
     "name": "stdout",
     "output_type": "stream",
     "text": [
      "Training data shape:  (42000, 784)\n",
      "Training labels shape:  (42000,)\n",
      "Test data shape:  (18000, 784)\n",
      "Test labels shape:  (18000,)\n"
     ]
    }
   ],
   "source": [
    "X_train_tmp, X_test_tmp, y_train, y_test = train_test_split(X, y, test_size=0.3, stratify=y)\n",
    "\n",
    "X_train = []\n",
    "\n",
    "for i in range(42000):\n",
    "    X_train.append(X_train_tmp[i].flatten())\n",
    "X_train = np.array(X_train)/255\n",
    "\n",
    "\n",
    "X_test = []\n",
    "\n",
    "for i in range(18000):\n",
    "    X_test.append(X_test_tmp[i].flatten())\n",
    "X_test = np.array(X_test)/255\n",
    "\n",
    "print('Training data shape: ', X_train.shape)\n",
    "print('Training labels shape: ', y_train.shape)\n",
    "print('Test data shape: ', X_test.shape)\n",
    "print('Test labels shape: ', y_test.shape)"
   ]
  },
  {
   "cell_type": "markdown",
   "id": "a4adadb6",
   "metadata": {},
   "source": [
    "# Basic SVM"
   ]
  },
  {
   "cell_type": "code",
   "execution_count": 5,
   "id": "12383599",
   "metadata": {},
   "outputs": [
    {
     "data": {
      "text/plain": [
       "SVC()"
      ]
     },
     "execution_count": 5,
     "metadata": {},
     "output_type": "execute_result"
    }
   ],
   "source": [
    "clf = svm.SVC()\n",
    "clf.fit(X_train, y_train) "
   ]
  },
  {
   "cell_type": "code",
   "execution_count": 6,
   "id": "68ba308c",
   "metadata": {},
   "outputs": [
    {
     "name": "stdout",
     "output_type": "stream",
     "text": [
      "[[1755    1    4    1    1    0    8    0    5    2]\n",
      " [   1 1998    7    5    2    1    0    2    5    2]\n",
      " [   7    4 1744    3    4    0    4    9   10    2]\n",
      " [   1    0   15 1775    2   14    0   13   14    5]\n",
      " [   3    2    9    0 1710    0    4    7    0   18]\n",
      " [   9    1    3   16    5 1574   10    0    6    2]\n",
      " [   6    1    2    0    3    6 1756    0    1    0]\n",
      " [   2    6    5    3   11    1    0 1835    2   15]\n",
      " [   5    8    4   11    5   12    6    2 1700    2]\n",
      " [   4    3    0    9   20    4    0   18    5 1722]]\n"
     ]
    }
   ],
   "source": [
    "y_predict = clf.predict(X_test)\n",
    "print(confusion_matrix(y_test, y_predict))"
   ]
  },
  {
   "cell_type": "code",
   "execution_count": 7,
   "id": "102fd122",
   "metadata": {},
   "outputs": [
    {
     "name": "stdout",
     "output_type": "stream",
     "text": [
      "0.9760555555555556\n"
     ]
    }
   ],
   "source": [
    "print(accuracy_score(y_test, y_predict))"
   ]
  },
  {
   "cell_type": "markdown",
   "id": "7e398d86",
   "metadata": {},
   "source": [
    "# Linéaire"
   ]
  },
  {
   "cell_type": "code",
   "execution_count": 8,
   "id": "d2d808fd",
   "metadata": {},
   "outputs": [
    {
     "name": "stdout",
     "output_type": "stream",
     "text": [
      "{'C': 1, 'kernel': 'linear'}\n",
      "[[1727    2    5    7    1   11   14    2    7    1]\n",
      " [   1 1985    6    4    3    3    2    1   17    1]\n",
      " [  18   27 1654   21   13    5   11   11   21    6]\n",
      " [   6    6   35 1696    2   46    3   11   21   13]\n",
      " [   4    3   14    2 1658    3    7    6    3   53]\n",
      " [  21    4   10   59    8 1461   22    2   28   11]\n",
      " [  16    0   28    4   11   18 1694    1    3    0]\n",
      " [   7    7   20   14   23    5    1 1763    3   37]\n",
      " [  20   44   31   45    9   54    6    4 1532   10]\n",
      " [   9    9    9   16   56   10    0   60   13 1603]]\n"
     ]
    }
   ],
   "source": [
    "params = {'C': [1, 10, 100, 1000], \n",
    "          'kernel': ['linear']}\n",
    "\n",
    "\n",
    "svc = svm.SVC()\n",
    "clf = GridSearchCV(svc, params, cv=10, n_jobs=-1)\n",
    "clf.fit(X_train, y_train)\n",
    "\n",
    "y_predict = clf.predict(X_test)\n",
    "\n",
    "print(clf.best_params_)\n",
    "print(confusion_matrix(y_test, y_predict))"
   ]
  },
  {
   "cell_type": "markdown",
   "id": "da5da55f",
   "metadata": {},
   "source": [
    "# Polynomial"
   ]
  },
  {
   "cell_type": "code",
   "execution_count": null,
   "id": "18b1e523",
   "metadata": {},
   "outputs": [],
   "source": [
    "params = {'C': [1, 10, 100, 1000], \n",
    "          'gamma': [0.001, 0.0001], \n",
    "          'kernel': ['poly'],\n",
    "          'degree': [2,3],\n",
    "          'coef0': [0.0, 1.0]}\n",
    "\n",
    "svc = svm.SVC()\n",
    "clf = GridSearchCV(svc, params, cv=10, n_jobs=-1)\n",
    "clf.fit(X_train, y_train)\n",
    "\n",
    "y_predict = clf.predict(X_test)\n",
    "\n",
    "print(clf.best_params_)\n",
    "print(confusion_matrix(y_test, y_predict))"
   ]
  },
  {
   "cell_type": "markdown",
   "id": "00151ea1",
   "metadata": {},
   "source": [
    "# RBF"
   ]
  },
  {
   "cell_type": "code",
   "execution_count": null,
   "id": "7991bc3f",
   "metadata": {},
   "outputs": [],
   "source": [
    "params = {'C': [1, 10, 100, 1000], \n",
    "          'gamma': [0.001, 0.0001], \n",
    "          'kernel': ['rbf']}\n",
    "\n",
    "svc = svm.SVC()\n",
    "clf = GridSearchCV(svc, params, cv=10, n_jobs=-1)\n",
    "clf.fit(X_train, y_train)\n",
    "\n",
    "y_predict = clf.predict(X_test)\n",
    "\n",
    "print(clf.best_params_)\n",
    "print(confusion_matrix(y_test, y_predict))"
   ]
  },
  {
   "cell_type": "markdown",
   "id": "e17eb7b1",
   "metadata": {},
   "source": [
    "# Questions\n",
    "\n",
    "- Which kernel and parameters were used ? \n",
    "\n",
    " Best results where observed with ...\n",
    " \n",
    "- Which digit classes are the best/worse recognized against which ? Why ? \n",
    "\n",
    " yolo\n",
    " \n",
    "- What is the impact of the sizes of the training and test sets on the classification performance ?\n",
    "\n",
    " yolo\n"
   ]
  },
  {
   "cell_type": "code",
   "execution_count": null,
   "id": "6336e605",
   "metadata": {},
   "outputs": [],
   "source": []
  }
 ],
 "metadata": {
  "kernelspec": {
   "display_name": "Python 3 (ipykernel)",
   "language": "python",
   "name": "python3"
  },
  "language_info": {
   "codemirror_mode": {
    "name": "ipython",
    "version": 3
   },
   "file_extension": ".py",
   "mimetype": "text/x-python",
   "name": "python",
   "nbconvert_exporter": "python",
   "pygments_lexer": "ipython3",
   "version": "3.7.7"
  }
 },
 "nbformat": 4,
 "nbformat_minor": 5
}
