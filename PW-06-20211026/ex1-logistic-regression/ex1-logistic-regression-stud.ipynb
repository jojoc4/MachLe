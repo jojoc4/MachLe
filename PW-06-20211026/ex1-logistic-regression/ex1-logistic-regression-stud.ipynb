{
 "cells": [
  {
   "cell_type": "markdown",
   "id": "3ac5039c",
   "metadata": {},
   "source": [
    "Jonatan Baumgartner\n",
    "\n",
    "Massimo De Santis\n",
    "\n",
    "Florain Feuillade"
   ]
  },
  {
   "cell_type": "markdown",
   "id": "7c9c5a60",
   "metadata": {},
   "source": [
    "# Exercise 1 - Classification to predict student admission"
   ]
  },
  {
   "cell_type": "markdown",
   "id": "1daf0e59",
   "metadata": {},
   "source": [
    "## Imports"
   ]
  },
  {
   "cell_type": "code",
   "execution_count": 1,
   "id": "7c28efb9",
   "metadata": {},
   "outputs": [],
   "source": [
    "import pandas as pd\n",
    "import numpy as np\n",
    "import matplotlib.pyplot as plt\n",
    "from sklearn.linear_model import SGDClassifier\n",
    "import math"
   ]
  },
  {
   "cell_type": "markdown",
   "id": "7111aa8b",
   "metadata": {},
   "source": [
    "## Exercise steps"
   ]
  },
  {
   "cell_type": "markdown",
   "id": "bf011d53",
   "metadata": {},
   "source": [
    "### a. Logistic regression classifier with linear decision boundary"
   ]
  },
  {
   "cell_type": "markdown",
   "id": "f46294c8",
   "metadata": {},
   "source": [
    "#### a) Read the data from file"
   ]
  },
  {
   "cell_type": "markdown",
   "id": "595ac345",
   "metadata": {},
   "source": [
    "In a similar way as for the exercise of the previous week, read the training data from file `student-dataset-train.csv`. The first two columns are $x_{1}$ and $x_{2}$. The last column holds the class label $y$. Build the design matrix $X$ as follow:"
   ]
  },
  {
   "cell_type": "markdown",
   "id": "07903ccd",
   "metadata": {},
   "source": [
    "<center>$X = \\left(\\begin{array}{ccc} \n",
    "        1 &   x_{1,1} & x_{1,2} \\\\\n",
    "        1 &   \\vdots  & \\vdots  \\\\\n",
    "        1 &   x_{N,1} & x_{N,2}\n",
    "           \\end{array}\\right)$</center>"
   ]
  },
  {
   "cell_type": "markdown",
   "id": "679d31ec",
   "metadata": {},
   "source": [
    "Check that the shape of $X$ is (100,3) and that the shape of $y$ is (100,)."
   ]
  },
  {
   "cell_type": "code",
   "execution_count": 2,
   "id": "922120d5",
   "metadata": {},
   "outputs": [
    {
     "name": "stdout",
     "output_type": "stream",
     "text": [
      "(100, 3)\n",
      "(100,)\n"
     ]
    }
   ],
   "source": [
    "df = pd.read_csv(\"student-dataset-train.csv\", header=None)\n",
    "df.head()\n",
    "\n",
    "X = df.drop(columns=2)\n",
    "y = df[2]\n",
    "\n",
    "X.insert(0, 2, np.ones(100), True)\n",
    "\n",
    "print(np.shape(X))\n",
    "print(np.shape(y))"
   ]
  },
  {
   "cell_type": "markdown",
   "id": "e5eb2b3e",
   "metadata": {},
   "source": [
    "#### b) Implement a z-norm normalization of the training set"
   ]
  },
  {
   "cell_type": "markdown",
   "id": "dedfd222",
   "metadata": {},
   "source": [
    "You need to store the normalization values $(\\mu, \\sigma)$ for later as they will be needed to normalize the test set."
   ]
  },
  {
   "cell_type": "code",
   "execution_count": 3,
   "id": "814f8bfd",
   "metadata": {},
   "outputs": [
    {
     "data": {
      "text/plain": [
       "<bound method NDFrame.head of       2         0         1\n",
       "0   1.0 -1.594216  0.635141\n",
       "1   1.0 -1.817101 -1.201489\n",
       "2   1.0 -1.531325  0.359483\n",
       "3   1.0 -0.280687  1.080923\n",
       "4   1.0  0.688062  0.490905\n",
       "..  ...       ...       ...\n",
       "95  1.0  0.917087 -0.960121\n",
       "96  1.0 -1.201681  1.123720\n",
       "97  1.0  1.730412  0.137407\n",
       "98  1.0 -0.529558 -0.069422\n",
       "99  1.0  0.469294  1.254269\n",
       "\n",
       "[100 rows x 3 columns]>"
      ]
     },
     "execution_count": 3,
     "metadata": {},
     "output_type": "execute_result"
    }
   ],
   "source": [
    "mu = {}\n",
    "sigma = {}\n",
    "for column in range(2):\n",
    "    mu[column] = X[column].mean()\n",
    "    sigma[column] = X[column].std()\n",
    "    X[column] = (X[column] - mu[column]) / sigma[column]\n",
    "    \n",
    "X.head"
   ]
  },
  {
   "cell_type": "markdown",
   "id": "cdf8fced",
   "metadata": {},
   "source": [
    "#### c) Implement a sigmoid function $g(z) = \\frac{1}{1+e^{-z}}$"
   ]
  },
  {
   "cell_type": "markdown",
   "id": "5c6bc4d3",
   "metadata": {},
   "source": [
    "Use numpy to compute the exp so that your function can take numpy arrays as input. Check your implementation by plotting the sigmoid function."
   ]
  },
  {
   "cell_type": "code",
   "execution_count": 4,
   "id": "8f479a61",
   "metadata": {},
   "outputs": [
    {
     "data": {
      "text/plain": [
       "[<matplotlib.lines.Line2D at 0x21d98ff5648>]"
      ]
     },
     "execution_count": 4,
     "metadata": {},
     "output_type": "execute_result"
    },
    {
     "data": {
      "image/png": "[encoded data removed]",
      "text/plain": [
       "<Figure size 432x288 with 1 Axes>"
      ]
     },
     "metadata": {
      "needs_background": "light"
     },
     "output_type": "display_data"
    }
   ],
   "source": [
    "def g(z):\n",
    "    return 1/(1+np.power(math.e, -z))\n",
    "              \n",
    "plt.plot(g(np.arange(-10, 10)))"
   ]
  },
  {
   "cell_type": "markdown",
   "id": "fb3d2958",
   "metadata": {},
   "source": [
    "#### d) Implement the hypothesis function $h_{\\theta}(\\mathbf{x})$"
   ]
  },
  {
   "cell_type": "markdown",
   "id": "b0fb80e2",
   "metadata": {},
   "source": [
    "Hint: implement it so that the computation can take the full array $X$ with $h(\\mathbf{x})$ broadcasted to all training samples."
   ]
  },
  {
   "cell_type": "code",
   "execution_count": 5,
   "id": "9d66dad9",
   "metadata": {},
   "outputs": [],
   "source": [
    "def h(theta, x):\n",
    "    return g(np.dot(x, theta))"
   ]
  },
  {
   "cell_type": "markdown",
   "id": "6e29c2e3",
   "metadata": {},
   "source": [
    "#### e) Implement the objective function $J(\\theta)$"
   ]
  },
  {
   "cell_type": "markdown",
   "id": "5b12f3ac",
   "metadata": {},
   "source": [
    "<center>$J(\\theta) = \\frac{1}{N} \\sum_{n=1}^{N} y_{n} \\log h_{\\theta}(\\mathbf{x_{n}}) + (1-y_{n}) \\log (1 - h_{\\theta} (\\mathbf{x_{n}}))$</center>"
   ]
  },
  {
   "cell_type": "code",
   "execution_count": 6,
   "id": "edfbb39f",
   "metadata": {},
   "outputs": [],
   "source": [
    "def j(theta, X, y):\n",
    "    epsilon = 1e-6\n",
    "    h1 = h(theta, X)\n",
    "    N = len(X)\n",
    "    return np.sum(y * np.log(h1 + epsilon) + (1-y) * np.log(1 - h1 + epsilon)) / N"
   ]
  },
  {
   "cell_type": "markdown",
   "id": "68cf517b",
   "metadata": {},
   "source": [
    "#### f) Implement the gradient ascent"
   ]
  },
  {
   "cell_type": "markdown",
   "id": "da42fed9",
   "metadata": {},
   "source": [
    "In a similar way as in PW02 and PW03, implement the gradient ascent with the update rule:"
   ]
  },
  {
   "cell_type": "markdown",
   "id": "1b6135d3",
   "metadata": {},
   "source": [
    "<center>$\\theta_{i} \\leftarrow \\theta_{i} + \\alpha \\frac{1}{N} \\sum_{n=1}^{N} (y_{n} - h_{\\theta}(\\mathbf{x}_{n})) x_{n,i}$</center>"
   ]
  },
  {
   "cell_type": "code",
   "execution_count": 7,
   "id": "5277e9aa",
   "metadata": {},
   "outputs": [],
   "source": [
    "def gradientAscent(X, y, learning_rate, num_epoch):\n",
    "    N = X.shape[0]\n",
    "    D = X.shape[1]\n",
    "    theta = np.zeros(D)\n",
    "    Js = np.zeros(num_epoch)\n",
    "    for i in range(num_epoch):\n",
    "        theta = theta + learning_rate * (y - h(theta, X)).dot(X) / N\n",
    "        Js[i] = j(theta, X, y)\n",
    "    \n",
    "    return theta, Js"
   ]
  },
  {
   "cell_type": "markdown",
   "id": "9993050d",
   "metadata": {},
   "source": [
    "#### g) Test your implementation by running a gradient ascent"
   ]
  },
  {
   "cell_type": "markdown",
   "id": "beeea57c",
   "metadata": {},
   "source": [
    "Hints: use a small $\\alpha$. e.g. $0.001$,  store the evolution of the objective function $J(\\theta)$ during the epochs to make a plot, use a large number of epochs, e.g. $2000000$."
   ]
  },
  {
   "cell_type": "code",
   "execution_count": 8,
   "id": "ad5cd402",
   "metadata": {},
   "outputs": [
    {
     "name": "stdout",
     "output_type": "stream",
     "text": [
      "2    0.669797\n",
      "0    1.775948\n",
      "1    1.602395\n",
      "Name: 2, dtype: float64\n"
     ]
    }
   ],
   "source": [
    "theta, J = gradientAscent(X, y, 0.001, 20000)\n",
    "print(theta)"
   ]
  },
  {
   "cell_type": "code",
   "execution_count": 9,
   "id": "ab790ec7",
   "metadata": {},
   "outputs": [
    {
     "data": {
      "text/plain": [
       "[<matplotlib.lines.Line2D at 0x21d9b108508>]"
      ]
     },
     "execution_count": 9,
     "metadata": {},
     "output_type": "execute_result"
    },
    {
     "data": {
      "image/png": "[encoded data removed]",
      "text/plain": [
       "<Figure size 432x288 with 1 Axes>"
      ]
     },
     "metadata": {
      "needs_background": "light"
     },
     "output_type": "display_data"
    }
   ],
   "source": [
    "plt.plot(J)"
   ]
  },
  {
   "cell_type": "markdown",
   "id": "55c6dee7",
   "metadata": {},
   "source": [
    "#### h) Compute the correct classification rate on `student-dataset-test.csv`"
   ]
  },
  {
   "cell_type": "markdown",
   "id": "11206c83",
   "metadata": {},
   "source": [
    "Compute the correct classification rate on `student-dataset-test.csv` after convergence as you have an estimator of the posterior probabilities with:"
   ]
  },
  {
   "cell_type": "markdown",
   "id": "2cd1e565",
   "metadata": {},
   "source": [
    "<center>$P(y_{n}=1|\\mathbf{x_{n}};\\theta) = h_{\\theta}(\\mathbf{x_{n}})$</center>\n",
    "<center>$P(y_{n}=0|\\mathbf{x_{n}};\\theta) = 1 - h_{\\theta}(\\mathbf{x_{n}})$</center>"
   ]
  },
  {
   "cell_type": "markdown",
   "id": "719bfe0a",
   "metadata": {},
   "source": [
    "This means that you can take the decisions $\\hat{y}_{n} = 1$ if $h_{\\theta}(\\mathbf{x_{n}}) \\geq 0.5$ and $\\hat{y}_{n} = 0$ if $h_{\\theta}(\\mathbf{x_{n}}) < 0.5$."
   ]
  },
  {
   "cell_type": "code",
   "execution_count": 10,
   "id": "8a333f9e",
   "metadata": {},
   "outputs": [
    {
     "name": "stdout",
     "output_type": "stream",
     "text": [
      "Correct : 89\n",
      "Percentage : 0.89\n"
     ]
    }
   ],
   "source": [
    "df_test = pd.read_csv(\"student-dataset-test.csv\", header=None)\n",
    "\n",
    "X_test = df_test.drop(columns=2)\n",
    "y_test = df_test[2]\n",
    "\n",
    "X_test.insert(0, 2, np.ones(100), True)\n",
    "\n",
    "X_test[0] = (X_test[0] - mu[0]) / sigma[0]\n",
    "X_test[1] = (X_test[1] - mu[1]) / sigma[1]\n",
    "\n",
    "h_test = h(theta, X_test)\n",
    "h_final = h_test >= 0.5\n",
    "correct = np.sum(h_final == y_test)\n",
    "print(f\"Correct : {correct}\")\n",
    "print(f\"Percentage : {correct / len(X_test)}\")"
   ]
  },
  {
   "cell_type": "markdown",
   "id": "9de5cb5a",
   "metadata": {},
   "source": [
    "#### i) Draw the decision boundary"
   ]
  },
  {
   "cell_type": "markdown",
   "id": "7fab6839",
   "metadata": {},
   "source": [
    "Draw the decision boundary of your system on top of the scatter plot of the testing data."
   ]
  },
  {
   "cell_type": "code",
   "execution_count": 11,
   "id": "ec0a3e5e",
   "metadata": {
    "scrolled": true
   },
   "outputs": [
    {
     "name": "stderr",
     "output_type": "stream",
     "text": [
      "c:\\users\\jonat\\desktop\\machle\\venv\\lib\\site-packages\\ipykernel_launcher.py:11: UserWarning: You passed a edgecolor/edgecolors ('none') for an unfilled marker ('x').  Matplotlib is ignoring the edgecolor in favor of the facecolor.  This behavior may change in the future.\n",
      "  # This is added back by InteractiveShellApp.init_path()\n"
     ]
    },
    {
     "data": {
      "image/png": "[encoded data removed]",
      "text/plain": [
       "<Figure size 432x288 with 1 Axes>"
      ]
     },
     "metadata": {
      "needs_background": "light"
     },
     "output_type": "display_data"
    }
   ],
   "source": [
    "colors = (\"red\", \"green\")\n",
    "markers = ('x', 'o')\n",
    "fig = plt.figure()\n",
    "ax = fig.add_subplot(1, 1, 1)\n",
    "\n",
    "data_train = np.c_[X[0], np.c_[X[1], y]]\n",
    "\n",
    "not_admitted = np.array([data[:2] for data in data_train if data[2] == 0.0])\n",
    "admitted = np.array([data[:2] for data in data_train if data[2] == 1.0])\n",
    "\n",
    "not_admitted_graph = ax.scatter(admitted[:, 0], admitted[:, 1], alpha=0.8, c=colors[0], marker=markers[0], edgecolors='none', s=30)\n",
    "admitted_graph = ax.scatter(not_admitted[:, 0], not_admitted[:, 1], alpha=0.8, c=colors[1], marker=markers[1], edgecolors='none', s=30)\n",
    "\n",
    "x1 = np.linspace(min(data_train[:,0]), max(data_train[:,0]))\n",
    "y1 = - (theta[0] + theta[1] * x1) / theta[2]\n",
    "plt.plot(x1, y1)\n",
    "\n",
    "plt.title('Matplot scatter plot')\n",
    "plt.legend([not_admitted_graph, admitted_graph], [\"not admitted\", \"admitted\"], loc=1)\n",
    "plt.show()"
   ]
  },
  {
   "cell_type": "markdown",
   "id": "c33157fe",
   "metadata": {},
   "source": [
    "#### j) Compare the performance"
   ]
  },
  {
   "cell_type": "markdown",
   "id": "e518484b",
   "metadata": {},
   "source": [
    "Compare the performance of the logistic regression system with the ones of previous's week."
   ]
  },
  {
   "cell_type": "markdown",
   "id": "db920b89",
   "metadata": {},
   "source": [
    "Nous ne voyons pas de quelle autre système vous parlez."
   ]
  },
  {
   "cell_type": "markdown",
   "id": "29883176",
   "metadata": {},
   "source": [
    "### b. Optional - Stochastic gradient ascent"
   ]
  },
  {
   "cell_type": "markdown",
   "id": "16686a85",
   "metadata": {},
   "source": [
    "Redo the experiments of 2.a with a stochastic gradient ascent."
   ]
  },
  {
   "cell_type": "code",
   "execution_count": 12,
   "id": "01bec6c2",
   "metadata": {},
   "outputs": [],
   "source": [
    "# Your code here"
   ]
  },
  {
   "cell_type": "markdown",
   "id": "20885c0a",
   "metadata": {},
   "source": [
    "### c. Logistic regression classifier with non-linear decision boundary"
   ]
  },
  {
   "cell_type": "markdown",
   "id": "cb2e0a1e",
   "metadata": {},
   "source": [
    "Redo the experiments of 2.a by increasing the complexity of the model in order to have a non-linear decision boundary:"
   ]
  },
  {
   "cell_type": "markdown",
   "id": "5ad8f75e",
   "metadata": {},
   "source": [
    "<center>$h_{\\theta}(\\mathbf{x}) = g(\\theta_{0} + \\theta_{1} x_{1} + \\theta_{2} x_{2} + \\theta_{3} x_{1}^{2} + \\theta_{4} x_{2}^{2} + \\theta_{5} x_{1}x_{2} + \\ldots)$</center>"
   ]
  },
  {
   "cell_type": "code",
   "execution_count": 13,
   "id": "dc7851a4",
   "metadata": {},
   "outputs": [
    {
     "name": "stdout",
     "output_type": "stream",
     "text": [
      "2    0.965673\n",
      "0    1.742988\n",
      "1    1.601195\n",
      "3   -0.342576\n",
      "4   -0.161001\n",
      "5    0.000949\n",
      "Name: 2, dtype: float64\n"
     ]
    }
   ],
   "source": [
    "x1_square = np.square(X[0])\n",
    "x2_square = np.square(X[1])\n",
    "x1_x2 = X[0] * X[1]\n",
    "X.insert(3, 3, x1_square, True)\n",
    "X.insert(4, 4, x2_square, True)\n",
    "X.insert(5, 5, x1_x2, True)\n",
    "\n",
    "\n",
    "x1_square_test = np.square(X_test[0])\n",
    "x2_square_test = np.square(X_test[1])\n",
    "x1_x2_test = X_test[0] * X_test[1]\n",
    "X_test.insert(3, 3, x1_square_test, True)\n",
    "X_test.insert(4, 4, x2_square_test, True)\n",
    "X_test.insert(5, 5, x1_x2_test, True)\n",
    "\n",
    "theta, J = gradientAscent(X, y, 0.001, 20000)\n",
    "print(theta)\n"
   ]
  },
  {
   "cell_type": "code",
   "execution_count": 15,
   "id": "1ae05ede",
   "metadata": {},
   "outputs": [
    {
     "name": "stdout",
     "output_type": "stream",
     "text": [
      "Correct : 91\n",
      "Percentage : 0.91\n"
     ]
    }
   ],
   "source": [
    "h_test = h(theta, X_test)\n",
    "h_final = h_test >= 0.5\n",
    "correct = np.sum(h_final == y_test)\n",
    "print(f\"Correct : {correct}\")\n",
    "print(f\"Percentage : {correct / len(X_test)}\")"
   ]
  },
  {
   "cell_type": "code",
   "execution_count": 16,
   "id": "f41eccc6",
   "metadata": {},
   "outputs": [
    {
     "data": {
      "text/plain": [
       "[<matplotlib.lines.Line2D at 0x21d9b260488>]"
      ]
     },
     "execution_count": 16,
     "metadata": {},
     "output_type": "execute_result"
    },
    {
     "data": {
      "image/png": "[encoded data removed]",
      "text/plain": [
       "<Figure size 432x288 with 1 Axes>"
      ]
     },
     "metadata": {
      "needs_background": "light"
     },
     "output_type": "display_data"
    }
   ],
   "source": [
    "plt.plot(J)"
   ]
  },
  {
   "cell_type": "code",
   "execution_count": 17,
   "id": "2ac2db5b",
   "metadata": {},
   "outputs": [
    {
     "name": "stderr",
     "output_type": "stream",
     "text": [
      "c:\\users\\jonat\\desktop\\machle\\venv\\lib\\site-packages\\ipykernel_launcher.py:11: UserWarning: You passed a edgecolor/edgecolors ('none') for an unfilled marker ('x').  Matplotlib is ignoring the edgecolor in favor of the facecolor.  This behavior may change in the future.\n",
      "  # This is added back by InteractiveShellApp.init_path()\n",
      "c:\\users\\jonat\\desktop\\machle\\venv\\lib\\site-packages\\ipykernel_launcher.py:20: RuntimeWarning: invalid value encountered in sqrt\n"
     ]
    },
    {
     "data": {
      "image/png": "[encoded data removed]",
      "text/plain": [
       "<Figure size 432x288 with 1 Axes>"
      ]
     },
     "metadata": {
      "needs_background": "light"
     },
     "output_type": "display_data"
    }
   ],
   "source": [
    "colors = (\"red\", \"green\")\n",
    "markers = ('x', 'o')\n",
    "fig = plt.figure()\n",
    "ax = fig.add_subplot(1, 1, 1)\n",
    "\n",
    "data_train = np.c_[X[0], np.c_[X[1], y]]\n",
    "\n",
    "not_admitted = np.array([data[:2] for data in data_train if data[2] == 0.0])\n",
    "admitted = np.array([data[:2] for data in data_train if data[2] == 1.0])\n",
    "\n",
    "not_admitted_graph = ax.scatter(admitted[:, 0], admitted[:, 1], alpha=0.8, c=colors[0], marker=markers[0], edgecolors='none', s=30)\n",
    "admitted_graph = ax.scatter(not_admitted[:, 0], not_admitted[:, 1], alpha=0.8, c=colors[1], marker=markers[1], edgecolors='none', s=30)\n",
    "\n",
    "x1 = np.linspace(min(data_train[:,0]), max(data_train[:,0]))\n",
    "\n",
    "c = theta[0] + theta[1]*x1 + theta[3]*(x1**2)\n",
    "b = theta[2] + theta[5] * x1\n",
    "a = theta[4]\n",
    "\n",
    "y1 = (-b + (np.sqrt(b**2 - 4*a*c)))/(2*a)\n",
    "plt.plot(x1, y1)\n",
    "\n",
    "plt.title('Matplot scatter plot')\n",
    "plt.legend([not_admitted_graph, admitted_graph], [\"not admitted\", \"admitted\"], loc=1)\n",
    "plt.show()"
   ]
  },
  {
   "cell_type": "markdown",
   "id": "e9995e78",
   "metadata": {},
   "source": [
    "### d. Using SciKit Learn"
   ]
  },
  {
   "cell_type": "markdown",
   "id": "420c64c4",
   "metadata": {},
   "source": [
    "Redo one of the exercise a. or c. using SciKit Learn."
   ]
  },
  {
   "cell_type": "markdown",
   "id": "4c918199",
   "metadata": {},
   "source": [
    "1. Read the documentation of the function `SGDClassifier()` available in the toolkit SciKit Learn. This function implements stochastic gradient descent training for different linear systems such as Logistic Regression. For a logistic regression, the `loss` parameter should be set to `\"log\"`.\n",
    "1. Use the `fit()` and `predict()` methods of this classifier on the student data.\n",
    "1. Compute the performances and compare it to your own implementations."
   ]
  },
  {
   "cell_type": "code",
   "execution_count": 14,
   "id": "627bdd1b",
   "metadata": {},
   "outputs": [
    {
     "name": "stdout",
     "output_type": "stream",
     "text": [
      "accuracy_score:  0.9\n"
     ]
    }
   ],
   "source": [
    "from sklearn import linear_model\n",
    "from sklearn.metrics import accuracy_score\n",
    "\n",
    "\n",
    "clf = linear_model.SGDClassifier(loss='log', max_iter=1000000, tol=1e-6)\n",
    "\n",
    "clf.fit(X, y)\n",
    "\n",
    "prediction = clf.predict(X_test)\n",
    "print(\"accuracy_score: \", accuracy_score(y_test, prediction))"
   ]
  },
  {
   "cell_type": "code",
   "execution_count": null,
   "id": "bfb502af",
   "metadata": {},
   "outputs": [],
   "source": []
  }
 ],
 "metadata": {
  "kernelspec": {
   "display_name": "Python 3 (ipykernel)",
   "language": "python",
   "name": "python3"
  },
  "language_info": {
   "codemirror_mode": {
    "name": "ipython",
    "version": 3
   },
   "file_extension": ".py",
   "mimetype": "text/x-python",
   "name": "python",
   "nbconvert_exporter": "python",
   "pygments_lexer": "ipython3",
   "version": "3.7.7"
  }
 },
 "nbformat": 4,
 "nbformat_minor": 5
}
