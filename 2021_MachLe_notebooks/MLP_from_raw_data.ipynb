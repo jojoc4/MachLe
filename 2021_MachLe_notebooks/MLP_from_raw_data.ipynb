{
 "cells": [
  {
   "cell_type": "markdown",
   "metadata": {
    "id": "Ic-cqm0tbUc3"
   },
   "source": [
    "# Multilayer Perceptron from raw data\n",
    "This notebook will guide you through the use of the `keras` package to train a multilayer perceptron for handwritten digits classification. You are going to use the `mnist` dataset from LeCun et al. 1998"
   ]
  },
  {
   "cell_type": "markdown",
   "metadata": {
    "id": "ND1Cf9lXbUc6"
   },
   "source": [
    "## Loading the packages"
   ]
  },
  {
   "cell_type": "code",
   "execution_count": 1,
   "metadata": {
    "colab": {
     "base_uri": "https://localhost:8080/"
    },
    "executionInfo": {
     "elapsed": 7058,
     "status": "ok",
     "timestamp": 1638274634343,
     "user": {
      "displayName": "Jonatan Baumgartner",
      "photoUrl": "https://lh3.googleusercontent.com/a/default-user=s64",
      "userId": "17476659832061139850"
     },
     "user_tz": -60
    },
    "id": "Pvq0DhLtbUdE",
    "outputId": "523b6f3f-c4d6-494a-c0fe-23ac9490cfda"
   },
   "outputs": [
    {
     "name": "stdout",
     "output_type": "stream",
     "text": [
      "Requirement already satisfied: tensorflow in c:\\users\\jonat\\desktop\\machle\\venv\\lib\\site-packages (2.7.0)\n",
      "Requirement already satisfied: flatbuffers<3.0,>=1.12 in c:\\users\\jonat\\desktop\\machle\\venv\\lib\\site-packages (from tensorflow) (2.0)\n",
      "Requirement already satisfied: gast<0.5.0,>=0.2.1 in c:\\users\\jonat\\desktop\\machle\\venv\\lib\\site-packages (from tensorflow) (0.4.0)\n",
      "Requirement already satisfied: astunparse>=1.6.0 in c:\\users\\jonat\\desktop\\machle\\venv\\lib\\site-packages (from tensorflow) (1.6.3)\n",
      "Requirement already satisfied: six>=1.12.0 in c:\\users\\jonat\\desktop\\machle\\venv\\lib\\site-packages (from tensorflow) (1.16.0)\n",
      "Requirement already satisfied: numpy>=1.14.5 in c:\\users\\jonat\\desktop\\machle\\venv\\lib\\site-packages (from tensorflow) (1.21.2)\n",
      "Requirement already satisfied: h5py>=2.9.0 in c:\\users\\jonat\\desktop\\machle\\venv\\lib\\site-packages (from tensorflow) (3.6.0)\n",
      "Requirement already satisfied: keras<2.8,>=2.7.0rc0 in c:\\users\\jonat\\desktop\\machle\\venv\\lib\\site-packages (from tensorflow) (2.7.0)\n",
      "Requirement already satisfied: absl-py>=0.4.0 in c:\\users\\jonat\\desktop\\machle\\venv\\lib\\site-packages (from tensorflow) (1.0.0)\n",
      "Requirement already satisfied: tensorflow-estimator<2.8,~=2.7.0rc0 in c:\\users\\jonat\\desktop\\machle\\venv\\lib\\site-packages (from tensorflow) (2.7.0)\n",
      "Requirement already satisfied: google-pasta>=0.1.1 in c:\\users\\jonat\\desktop\\machle\\venv\\lib\\site-packages (from tensorflow) (0.2.0)\n",
      "Requirement already satisfied: wheel<1.0,>=0.32.0 in c:\\users\\jonat\\desktop\\machle\\venv\\lib\\site-packages (from tensorflow) (0.37.0)\n",
      "Requirement already satisfied: grpcio<2.0,>=1.24.3 in c:\\users\\jonat\\desktop\\machle\\venv\\lib\\site-packages (from tensorflow) (1.42.0)\n",
      "Requirement already satisfied: termcolor>=1.1.0 in c:\\users\\jonat\\desktop\\machle\\venv\\lib\\site-packages (from tensorflow) (1.1.0)\n",
      "Requirement already satisfied: opt-einsum>=2.3.2 in c:\\users\\jonat\\desktop\\machle\\venv\\lib\\site-packages (from tensorflow) (3.3.0)\n",
      "Requirement already satisfied: libclang>=9.0.1 in c:\\users\\jonat\\desktop\\machle\\venv\\lib\\site-packages (from tensorflow) (12.0.0)\n",
      "Requirement already satisfied: keras-preprocessing>=1.1.1 in c:\\users\\jonat\\desktop\\machle\\venv\\lib\\site-packages (from tensorflow) (1.1.2)\n",
      "Requirement already satisfied: wrapt>=1.11.0 in c:\\users\\jonat\\desktop\\machle\\venv\\lib\\site-packages (from tensorflow) (1.13.3)\n",
      "Requirement already satisfied: tensorflow-io-gcs-filesystem>=0.21.0 in c:\\users\\jonat\\desktop\\machle\\venv\\lib\\site-packages (from tensorflow) (0.22.0)\n",
      "Requirement already satisfied: protobuf>=3.9.2 in c:\\users\\jonat\\desktop\\machle\\venv\\lib\\site-packages (from tensorflow) (3.19.1)\n",
      "Requirement already satisfied: tensorboard~=2.6 in c:\\users\\jonat\\desktop\\machle\\venv\\lib\\site-packages (from tensorflow) (2.7.0)\n",
      "Requirement already satisfied: typing-extensions>=3.6.6 in c:\\users\\jonat\\desktop\\machle\\venv\\lib\\site-packages (from tensorflow) (3.10.0.2)\n",
      "Requirement already satisfied: cached-property in c:\\users\\jonat\\desktop\\machle\\venv\\lib\\site-packages (from h5py>=2.9.0->tensorflow) (1.5.2)\n",
      "Requirement already satisfied: tensorboard-data-server<0.7.0,>=0.6.0 in c:\\users\\jonat\\desktop\\machle\\venv\\lib\\site-packages (from tensorboard~=2.6->tensorflow) (0.6.1)\n",
      "Requirement already satisfied: google-auth<3,>=1.6.3 in c:\\users\\jonat\\desktop\\machle\\venv\\lib\\site-packages (from tensorboard~=2.6->tensorflow) (2.3.3)\n",
      "Requirement already satisfied: setuptools>=41.0.0 in c:\\users\\jonat\\desktop\\machle\\venv\\lib\\site-packages (from tensorboard~=2.6->tensorflow) (41.2.0)\n",
      "Requirement already satisfied: requests<3,>=2.21.0 in c:\\users\\jonat\\desktop\\machle\\venv\\lib\\site-packages (from tensorboard~=2.6->tensorflow) (2.26.0)\n",
      "Requirement already satisfied: google-auth-oauthlib<0.5,>=0.4.1 in c:\\users\\jonat\\desktop\\machle\\venv\\lib\\site-packages (from tensorboard~=2.6->tensorflow) (0.4.6)\n",
      "Requirement already satisfied: tensorboard-plugin-wit>=1.6.0 in c:\\users\\jonat\\desktop\\machle\\venv\\lib\\site-packages (from tensorboard~=2.6->tensorflow) (1.8.0)\n",
      "Requirement already satisfied: markdown>=2.6.8 in c:\\users\\jonat\\desktop\\machle\\venv\\lib\\site-packages (from tensorboard~=2.6->tensorflow) (3.3.6)\n",
      "Requirement already satisfied: werkzeug>=0.11.15 in c:\\users\\jonat\\desktop\\machle\\venv\\lib\\site-packages (from tensorboard~=2.6->tensorflow) (2.0.2)\n",
      "Requirement already satisfied: cachetools<5.0,>=2.0.0 in c:\\users\\jonat\\desktop\\machle\\venv\\lib\\site-packages (from google-auth<3,>=1.6.3->tensorboard~=2.6->tensorflow) (4.2.4)\n",
      "Requirement already satisfied: rsa<5,>=3.1.4 in c:\\users\\jonat\\desktop\\machle\\venv\\lib\\site-packages (from google-auth<3,>=1.6.3->tensorboard~=2.6->tensorflow) (4.8)\n",
      "Requirement already satisfied: pyasn1-modules>=0.2.1 in c:\\users\\jonat\\desktop\\machle\\venv\\lib\\site-packages (from google-auth<3,>=1.6.3->tensorboard~=2.6->tensorflow) (0.2.8)\n",
      "Requirement already satisfied: requests-oauthlib>=0.7.0 in c:\\users\\jonat\\desktop\\machle\\venv\\lib\\site-packages (from google-auth-oauthlib<0.5,>=0.4.1->tensorboard~=2.6->tensorflow) (1.3.0)\n",
      "Requirement already satisfied: importlib-metadata>=4.4 in c:\\users\\jonat\\desktop\\machle\\venv\\lib\\site-packages (from markdown>=2.6.8->tensorboard~=2.6->tensorflow) (4.8.1)\n",
      "Requirement already satisfied: charset-normalizer~=2.0.0 in c:\\users\\jonat\\desktop\\machle\\venv\\lib\\site-packages (from requests<3,>=2.21.0->tensorboard~=2.6->tensorflow) (2.0.7)\n",
      "Requirement already satisfied: certifi>=2017.4.17 in c:\\users\\jonat\\desktop\\machle\\venv\\lib\\site-packages (from requests<3,>=2.21.0->tensorboard~=2.6->tensorflow) (2021.10.8)\n",
      "Requirement already satisfied: idna<4,>=2.5 in c:\\users\\jonat\\desktop\\machle\\venv\\lib\\site-packages (from requests<3,>=2.21.0->tensorboard~=2.6->tensorflow) (3.3)\n",
      "Requirement already satisfied: urllib3<1.27,>=1.21.1 in c:\\users\\jonat\\desktop\\machle\\venv\\lib\\site-packages (from requests<3,>=2.21.0->tensorboard~=2.6->tensorflow) (1.26.7)\n",
      "Requirement already satisfied: zipp>=0.5 in c:\\users\\jonat\\desktop\\machle\\venv\\lib\\site-packages (from importlib-metadata>=4.4->markdown>=2.6.8->tensorboard~=2.6->tensorflow) (3.5.0)\n",
      "Requirement already satisfied: pyasn1<0.5.0,>=0.4.6 in c:\\users\\jonat\\desktop\\machle\\venv\\lib\\site-packages (from pyasn1-modules>=0.2.1->google-auth<3,>=1.6.3->tensorboard~=2.6->tensorflow) (0.4.8)\n",
      "Requirement already satisfied: oauthlib>=3.0.0 in c:\\users\\jonat\\desktop\\machle\\venv\\lib\\site-packages (from requests-oauthlib>=0.7.0->google-auth-oauthlib<0.5,>=0.4.1->tensorboard~=2.6->tensorflow) (3.1.1)\n",
      "Note: you may need to restart the kernel to use updated packages.\n",
      "Requirement already satisfied: keras in c:\\users\\jonat\\desktop\\machle\\venv\\lib\\site-packages (2.7.0)\n",
      "Note: you may need to restart the kernel to use updated packages.\n"
     ]
    }
   ],
   "source": [
    "%pip install tensorflow --upgrade\n",
    "%pip install keras --upgrade\n",
    "\n",
    "import numpy as np\n",
    "from matplotlib import pyplot as pl\n",
    "\n",
    "from tensorflow.keras.datasets import mnist\n",
    "from tensorflow.keras.models import Sequential\n",
    "from tensorflow.keras.layers import Dense, Dropout\n",
    "from tensorflow.keras.optimizers import RMSprop\n",
    "from tensorflow.keras import utils as np_utils\n",
    "from sklearn import metrics as me\n",
    "\n",
    "%matplotlib inline"
   ]
  },
  {
   "cell_type": "markdown",
   "metadata": {
    "id": "Vy0wRnm2bUde"
   },
   "source": [
    "## Using raw data to train a MLP\n",
    "First load the `mnist` dataset and normalize it to be in the range [0, 1]"
   ]
  },
  {
   "cell_type": "code",
   "execution_count": 2,
   "metadata": {
    "colab": {
     "base_uri": "https://localhost:8080/"
    },
    "executionInfo": {
     "elapsed": 898,
     "status": "ok",
     "timestamp": 1638274662365,
     "user": {
      "displayName": "Jonatan Baumgartner",
      "photoUrl": "https://lh3.googleusercontent.com/a/default-user=s64",
      "userId": "17476659832061139850"
     },
     "user_tz": -60
    },
    "id": "8CKuJwcibUdi",
    "outputId": "c753c275-c788-4549-d174-5207e563f220"
   },
   "outputs": [
    {
     "name": "stdout",
     "output_type": "stream",
     "text": [
      "60000 train samples\n",
      "10000 test samples\n"
     ]
    }
   ],
   "source": [
    "(X_train, y_train), (X_test, y_test) = mnist.load_data()\n",
    "\n",
    "X_train = X_train.reshape(60000, 784)\n",
    "X_test = X_test.reshape(10000, 784)\n",
    "X_train = X_train.astype('float32')\n",
    "X_test = X_test.astype('float32')\n",
    "X_train /= 255\n",
    "X_test /= 255\n",
    "print(X_train.shape[0], 'train samples')\n",
    "print(X_test.shape[0], 'test samples')\n",
    "\n",
    "n_classes = 10\n",
    "# convert class vectors to binary class matrices\n",
    "Y_train = np_utils.to_categorical(y_train, n_classes)\n",
    "Y_test = np_utils.to_categorical(y_test, n_classes)"
   ]
  },
  {
   "cell_type": "markdown",
   "metadata": {
    "id": "01XwVeDNbUdv"
   },
   "source": [
    "Create the MLP"
   ]
  },
  {
   "cell_type": "code",
   "execution_count": 3,
   "metadata": {
    "colab": {
     "base_uri": "https://localhost:8080/"
    },
    "executionInfo": {
     "elapsed": 3116,
     "status": "ok",
     "timestamp": 1638274668955,
     "user": {
      "displayName": "Jonatan Baumgartner",
      "photoUrl": "https://lh3.googleusercontent.com/a/default-user=s64",
      "userId": "17476659832061139850"
     },
     "user_tz": -60
    },
    "id": "DNgzrBJEbUd0",
    "outputId": "c1bff8b2-1a2f-4425-cf33-d538a683e90d"
   },
   "outputs": [
    {
     "name": "stdout",
     "output_type": "stream",
     "text": [
      "Model: \"sequential\"\n",
      "_________________________________________________________________\n",
      " Layer (type)                Output Shape              Param #   \n",
      "=================================================================\n",
      " dense (Dense)               (None, 3000)              2355000   \n",
      "                                                                 \n",
      " dense_1 (Dense)             (None, 3000)              9003000   \n",
      "                                                                 \n",
      " dense_2 (Dense)             (None, 3000)              9003000   \n",
      "                                                                 \n",
      " dense_3 (Dense)             (None, 10)                30010     \n",
      "                                                                 \n",
      "=================================================================\n",
      "Total params: 20,391,010\n",
      "Trainable params: 20,391,010\n",
      "Non-trainable params: 0\n",
      "_________________________________________________________________\n"
     ]
    }
   ],
   "source": [
    "model = Sequential()\n",
    "model.add(Dense(3000, input_shape=(784,), activation='relu'))\n",
    "model.add(Dense(3000, input_shape=(784,), activation='relu'))\n",
    "model.add(Dense(3000, input_shape=(784,), activation='relu'))\n",
    "#model.add(Dropout(0.5))\n",
    "model.add(Dense(n_classes, activation='softmax'))\n",
    "\n",
    "model.summary()"
   ]
  },
  {
   "cell_type": "markdown",
   "metadata": {
    "id": "Peiq9GR2bUeN"
   },
   "source": [
    "Define some constants and train the MLP"
   ]
  },
  {
   "cell_type": "code",
   "execution_count": 4,
   "metadata": {
    "colab": {
     "base_uri": "https://localhost:8080/"
    },
    "executionInfo": {
     "elapsed": 26103,
     "status": "ok",
     "timestamp": 1638274698668,
     "user": {
      "displayName": "Jonatan Baumgartner",
      "photoUrl": "https://lh3.googleusercontent.com/a/default-user=s64",
      "userId": "17476659832061139850"
     },
     "user_tz": -60
    },
    "id": "NBt-ReqIbUeR",
    "outputId": "8559d9be-c1d7-44c3-b5b9-ce5c3ce2875e"
   },
   "outputs": [
    {
     "name": "stdout",
     "output_type": "stream",
     "text": [
      "Epoch 1/10\n",
      "469/469 [==============================] - 69s 147ms/step - loss: 0.3328 - accuracy: 0.9185 - val_loss: 0.1319 - val_accuracy: 0.9683\n",
      "Epoch 2/10\n",
      "469/469 [==============================] - 68s 146ms/step - loss: 0.1298 - accuracy: 0.9663 - val_loss: 0.1454 - val_accuracy: 0.9642\n",
      "Epoch 3/10\n",
      "469/469 [==============================] - 73s 156ms/step - loss: 0.0964 - accuracy: 0.9759 - val_loss: 0.1037 - val_accuracy: 0.9745\n",
      "Epoch 4/10\n",
      "469/469 [==============================] - 75s 159ms/step - loss: 0.0782 - accuracy: 0.9809 - val_loss: 0.1270 - val_accuracy: 0.9733\n",
      "Epoch 5/10\n",
      "469/469 [==============================] - 73s 155ms/step - loss: 0.0678 - accuracy: 0.9832 - val_loss: 0.3013 - val_accuracy: 0.9599\n",
      "Epoch 6/10\n",
      "469/469 [==============================] - 73s 156ms/step - loss: 0.0570 - accuracy: 0.9862 - val_loss: 0.1315 - val_accuracy: 0.9811\n",
      "Epoch 7/10\n",
      "469/469 [==============================] - 71s 152ms/step - loss: 0.0551 - accuracy: 0.9880 - val_loss: 0.1898 - val_accuracy: 0.9784\n",
      "Epoch 8/10\n",
      "469/469 [==============================] - 69s 146ms/step - loss: 0.0468 - accuracy: 0.9895 - val_loss: 0.1797 - val_accuracy: 0.9731\n",
      "Epoch 9/10\n",
      "469/469 [==============================] - 68s 145ms/step - loss: 0.0472 - accuracy: 0.9904 - val_loss: 0.1601 - val_accuracy: 0.9817\n",
      "Epoch 10/10\n",
      "469/469 [==============================] - 68s 146ms/step - loss: 0.0411 - accuracy: 0.9912 - val_loss: 0.2749 - val_accuracy: 0.9784\n"
     ]
    }
   ],
   "source": [
    "batch_size = 128\n",
    "n_epoch = 10\n",
    "\n",
    "model.compile(loss='categorical_crossentropy', optimizer=RMSprop(), metrics=['accuracy'])\n",
    "history = model.fit(X_train, Y_train,\n",
    "                    batch_size=batch_size, epochs=n_epoch,\n",
    "                    verbose=1, validation_data=(X_test, Y_test))"
   ]
  },
  {
   "cell_type": "markdown",
   "metadata": {
    "id": "7u_zpHr5bUeb"
   },
   "source": [
    "Show the performance of the model"
   ]
  },
  {
   "cell_type": "code",
   "execution_count": 5,
   "metadata": {
    "colab": {
     "base_uri": "https://localhost:8080/",
     "height": 302
    },
    "executionInfo": {
     "elapsed": 1227,
     "status": "ok",
     "timestamp": 1638274702692,
     "user": {
      "displayName": "Jonatan Baumgartner",
      "photoUrl": "https://lh3.googleusercontent.com/a/default-user=s64",
      "userId": "17476659832061139850"
     },
     "user_tz": -60
    },
    "id": "PHXi21E1bUef",
    "outputId": "55d4c9ca-d603-4980-9d88-5aa0251809ba"
   },
   "outputs": [
    {
     "name": "stdout",
     "output_type": "stream",
     "text": [
      "Test score: 0.2748834490776062\n",
      "Test accuracy: 0.9783999919891357\n"
     ]
    },
    {
     "data": {
      "image/png": "[encoded data removed]",
      "text/plain": [
       "<Figure size 432x288 with 1 Axes>"
      ]
     },
     "metadata": {
      "needs_background": "light"
     },
     "output_type": "display_data"
    }
   ],
   "source": [
    "pl.plot(history.history['loss'], label='Training')\n",
    "pl.plot(history.history['val_loss'], label='Testing')\n",
    "pl.legend()\n",
    "pl.grid()\n",
    "\n",
    "score = model.evaluate(X_test, Y_test, verbose=0)\n",
    "print('Test score:', score[0])\n",
    "print('Test accuracy:', score[1])"
   ]
  },
  {
   "cell_type": "markdown",
   "metadata": {
    "id": "jLuFK6MobUet"
   },
   "source": [
    "Confusion matrix"
   ]
  },
  {
   "cell_type": "code",
   "execution_count": 6,
   "metadata": {
    "colab": {
     "base_uri": "https://localhost:8080/"
    },
    "executionInfo": {
     "elapsed": 939,
     "status": "ok",
     "timestamp": 1638274788999,
     "user": {
      "displayName": "Jonatan Baumgartner",
      "photoUrl": "https://lh3.googleusercontent.com/a/default-user=s64",
      "userId": "17476659832061139850"
     },
     "user_tz": -60
    },
    "id": "PAjwjjrjbUex",
    "outputId": "d1fc4a5b-fa39-4e40-9cb8-7280eb08e24e"
   },
   "outputs": [
    {
     "data": {
      "text/plain": [
       "array([[ 973,    1,    0,    0,    1,    0,    2,    1,    2,    0],\n",
       "       [   0, 1124,    1,    2,    0,    0,    0,    1,    7,    0],\n",
       "       [   2,    1, 1014,    1,    1,    0,    0,    8,    5,    0],\n",
       "       [   2,    0,    1,  979,    0,    1,    0,   12,   15,    0],\n",
       "       [   1,    0,    2,    0,  967,    0,    3,    4,    1,    4],\n",
       "       [   6,    0,    0,   11,    0,  844,    6,   15,    7,    3],\n",
       "       [   3,    2,    0,    1,    5,    1,  944,    0,    2,    0],\n",
       "       [   2,    3,    5,    1,    0,    0,    0, 1013,    4,    0],\n",
       "       [   4,    0,    2,    1,    3,    1,    0,    4,  956,    3],\n",
       "       [   2,    3,    0,    2,   11,    2,    0,   12,    7,  970]],\n",
       "      dtype=int64)"
      ]
     },
     "execution_count": 6,
     "metadata": {},
     "output_type": "execute_result"
    }
   ],
   "source": [
    "#pred = model.predict_classes(X_test)\n",
    "predict_x=model.predict(X_test) \n",
    "pred=np.argmax(predict_x,axis=1)\n",
    "me.confusion_matrix(y_test, pred)"
   ]
  },
  {
   "cell_type": "code",
   "execution_count": 7,
   "metadata": {},
   "outputs": [
    {
     "name": "stdout",
     "output_type": "stream",
     "text": [
      "Requirement already satisfied: seaborn in c:\\users\\jonat\\desktop\\machle\\venv\\lib\\site-packages (0.11.2)\n",
      "Requirement already satisfied: pandas>=0.23 in c:\\users\\jonat\\desktop\\machle\\venv\\lib\\site-packages (from seaborn) (1.3.3)\n",
      "Requirement already satisfied: matplotlib>=2.2 in c:\\users\\jonat\\desktop\\machle\\venv\\lib\\site-packages (from seaborn) (3.4.3)\n",
      "Requirement already satisfied: scipy>=1.0 in c:\\users\\jonat\\desktop\\machle\\venv\\lib\\site-packages (from seaborn) (1.7.1)\n",
      "Requirement already satisfied: numpy>=1.15 in c:\\users\\jonat\\desktop\\machle\\venv\\lib\\site-packages (from seaborn) (1.21.2)\n",
      "Requirement already satisfied: kiwisolver>=1.0.1 in c:\\users\\jonat\\desktop\\machle\\venv\\lib\\site-packages (from matplotlib>=2.2->seaborn) (1.3.2)\n",
      "Requirement already satisfied: pyparsing>=2.2.1 in c:\\users\\jonat\\desktop\\machle\\venv\\lib\\site-packages (from matplotlib>=2.2->seaborn) (2.4.7)\n",
      "Requirement already satisfied: python-dateutil>=2.7 in c:\\users\\jonat\\desktop\\machle\\venv\\lib\\site-packages (from matplotlib>=2.2->seaborn) (2.8.2)\n",
      "Requirement already satisfied: pillow>=6.2.0 in c:\\users\\jonat\\desktop\\machle\\venv\\lib\\site-packages (from matplotlib>=2.2->seaborn) (8.3.2)\n",
      "Requirement already satisfied: cycler>=0.10 in c:\\users\\jonat\\desktop\\machle\\venv\\lib\\site-packages (from matplotlib>=2.2->seaborn) (0.10.0)\n",
      "Requirement already satisfied: pytz>=2017.3 in c:\\users\\jonat\\desktop\\machle\\venv\\lib\\site-packages (from pandas>=0.23->seaborn) (2021.1)\n",
      "Requirement already satisfied: six in c:\\users\\jonat\\desktop\\machle\\venv\\lib\\site-packages (from cycler>=0.10->matplotlib>=2.2->seaborn) (1.16.0)\n",
      "Note: you may need to restart the kernel to use updated packages.\n"
     ]
    },
    {
     "data": {
      "image/png": "[encoded data removed]",
      "text/plain": [
       "<Figure size 432x288 with 1 Axes>"
      ]
     },
     "metadata": {
      "needs_background": "light"
     },
     "output_type": "display_data"
    }
   ],
   "source": [
    "%pip install seaborn --upgrade\n",
    "import seaborn as sns\n",
    "def plot_confusion_matrix(y_true, y_pred):\n",
    "    unique_labels = np.unique(y_true)\n",
    "    cm = me.confusion_matrix(y_true, y_pred)\n",
    "    \n",
    "    sns.heatmap(\n",
    "        cm, annot=True, fmt='g',\n",
    "        xticklabels=unique_labels, yticklabels=unique_labels,\n",
    "        square=True, cbar=False,\n",
    "        cmap=\"Blues\"\n",
    "    )\n",
    "    pl.xlabel(\"Predicted labels\")\n",
    "    pl.ylabel(\"True labels\")\n",
    "\n",
    "    pl.show()\n",
    "\n",
    "plot_confusion_matrix(y_test, pred)"
   ]
  }
 ],
 "metadata": {
  "accelerator": "GPU",
  "colab": {
   "collapsed_sections": [],
   "name": "MLP_from_raw_data.ipynb",
   "provenance": [
    {
     "file_id": "1wkjhusmmEMElSAp38R-EY0uOIkeUfpwC",
     "timestamp": 1573817456996
    }
   ]
  },
  "kernelspec": {
   "display_name": "Python 3 (ipykernel)",
   "language": "python",
   "name": "python3"
  },
  "language_info": {
   "codemirror_mode": {
    "name": "ipython",
    "version": 3
   },
   "file_extension": ".py",
   "mimetype": "text/x-python",
   "name": "python",
   "nbconvert_exporter": "python",
   "pygments_lexer": "ipython3",
   "version": "3.7.7"
  }
 },
 "nbformat": 4,
 "nbformat_minor": 1
}
