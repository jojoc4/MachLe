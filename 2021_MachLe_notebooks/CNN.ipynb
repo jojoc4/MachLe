{
 "cells": [
  {
   "cell_type": "code",
   "execution_count": null,
   "metadata": {
    "id": "WB9TAcyeKO2b"
   },
   "outputs": [],
   "source": []
  },
  {
   "cell_type": "markdown",
   "metadata": {
    "id": "HkLUJVa1bfNW"
   },
   "source": [
    "# Convolutional Neural Networks\n",
    "This notebook will guide you through the use of the `keras` package to train convolutional neural networks for handwritten digits classification. You are going to use the `mnist` dataset from LeCun et al. 1998."
   ]
  },
  {
   "cell_type": "markdown",
   "metadata": {
    "id": "SjQUQygFbfNb"
   },
   "source": [
    "## Loading the packages"
   ]
  },
  {
   "cell_type": "code",
   "execution_count": 1,
   "metadata": {
    "colab": {
     "base_uri": "https://localhost:8080/"
    },
    "executionInfo": {
     "elapsed": 7162,
     "status": "ok",
     "timestamp": 1638275061970,
     "user": {
      "displayName": "Jonatan Baumgartner",
      "photoUrl": "https://lh3.googleusercontent.com/a/default-user=s64",
      "userId": "17476659832061139850"
     },
     "user_tz": -60
    },
    "id": "h7O8MewabfNj",
    "outputId": "2f6bbe0f-157e-423e-a706-6acd25b28695"
   },
   "outputs": [
    {
     "name": "stdout",
     "output_type": "stream",
     "text": [
      "Requirement already satisfied: tensorflow in c:\\users\\jonat\\desktop\\machle\\venv\\lib\\site-packages (2.7.0)\n",
      "Requirement already satisfied: numpy>=1.14.5 in c:\\users\\jonat\\desktop\\machle\\venv\\lib\\site-packages (from tensorflow) (1.21.2)\n",
      "Requirement already satisfied: keras-preprocessing>=1.1.1 in c:\\users\\jonat\\desktop\\machle\\venv\\lib\\site-packages (from tensorflow) (1.1.2)\n",
      "Requirement already satisfied: tensorflow-estimator<2.8,~=2.7.0rc0 in c:\\users\\jonat\\desktop\\machle\\venv\\lib\\site-packages (from tensorflow) (2.7.0)\n",
      "Requirement already satisfied: flatbuffers<3.0,>=1.12 in c:\\users\\jonat\\desktop\\machle\\venv\\lib\\site-packages (from tensorflow) (2.0)\n",
      "Requirement already satisfied: h5py>=2.9.0 in c:\\users\\jonat\\desktop\\machle\\venv\\lib\\site-packages (from tensorflow) (3.6.0)\n",
      "Requirement already satisfied: six>=1.12.0 in c:\\users\\jonat\\desktop\\machle\\venv\\lib\\site-packages (from tensorflow) (1.16.0)\n",
      "Requirement already satisfied: termcolor>=1.1.0 in c:\\users\\jonat\\desktop\\machle\\venv\\lib\\site-packages (from tensorflow) (1.1.0)\n",
      "Requirement already satisfied: gast<0.5.0,>=0.2.1 in c:\\users\\jonat\\desktop\\machle\\venv\\lib\\site-packages (from tensorflow) (0.4.0)\n",
      "Requirement already satisfied: libclang>=9.0.1 in c:\\users\\jonat\\desktop\\machle\\venv\\lib\\site-packages (from tensorflow) (12.0.0)\n",
      "Requirement already satisfied: keras<2.8,>=2.7.0rc0 in c:\\users\\jonat\\desktop\\machle\\venv\\lib\\site-packages (from tensorflow) (2.7.0)\n",
      "Requirement already satisfied: astunparse>=1.6.0 in c:\\users\\jonat\\desktop\\machle\\venv\\lib\\site-packages (from tensorflow) (1.6.3)\n",
      "Requirement already satisfied: tensorflow-io-gcs-filesystem>=0.21.0 in c:\\users\\jonat\\desktop\\machle\\venv\\lib\\site-packages (from tensorflow) (0.22.0)\n",
      "Requirement already satisfied: typing-extensions>=3.6.6 in c:\\users\\jonat\\desktop\\machle\\venv\\lib\\site-packages (from tensorflow) (3.10.0.2)\n",
      "Requirement already satisfied: grpcio<2.0,>=1.24.3 in c:\\users\\jonat\\desktop\\machle\\venv\\lib\\site-packages (from tensorflow) (1.42.0)\n",
      "Requirement already satisfied: google-pasta>=0.1.1 in c:\\users\\jonat\\desktop\\machle\\venv\\lib\\site-packages (from tensorflow) (0.2.0)\n",
      "Requirement already satisfied: tensorboard~=2.6 in c:\\users\\jonat\\desktop\\machle\\venv\\lib\\site-packages (from tensorflow) (2.7.0)\n",
      "Requirement already satisfied: absl-py>=0.4.0 in c:\\users\\jonat\\desktop\\machle\\venv\\lib\\site-packages (from tensorflow) (1.0.0)\n",
      "Requirement already satisfied: wrapt>=1.11.0 in c:\\users\\jonat\\desktop\\machle\\venv\\lib\\site-packages (from tensorflow) (1.13.3)\n",
      "Requirement already satisfied: wheel<1.0,>=0.32.0 in c:\\users\\jonat\\desktop\\machle\\venv\\lib\\site-packages (from tensorflow) (0.37.0)\n",
      "Requirement already satisfied: opt-einsum>=2.3.2 in c:\\users\\jonat\\desktop\\machle\\venv\\lib\\site-packages (from tensorflow) (3.3.0)\n",
      "Requirement already satisfied: protobuf>=3.9.2 in c:\\users\\jonat\\desktop\\machle\\venv\\lib\\site-packages (from tensorflow) (3.19.1)\n",
      "Requirement already satisfied: cached-property in c:\\users\\jonat\\desktop\\machle\\venv\\lib\\site-packages (from h5py>=2.9.0->tensorflow) (1.5.2)\n",
      "Requirement already satisfied: google-auth-oauthlib<0.5,>=0.4.1 in c:\\users\\jonat\\desktop\\machle\\venv\\lib\\site-packages (from tensorboard~=2.6->tensorflow) (0.4.6)\n",
      "Requirement already satisfied: google-auth<3,>=1.6.3 in c:\\users\\jonat\\desktop\\machle\\venv\\lib\\site-packages (from tensorboard~=2.6->tensorflow) (2.3.3)\n",
      "Requirement already satisfied: setuptools>=41.0.0 in c:\\users\\jonat\\desktop\\machle\\venv\\lib\\site-packages (from tensorboard~=2.6->tensorflow) (41.2.0)\n",
      "Requirement already satisfied: requests<3,>=2.21.0 in c:\\users\\jonat\\desktop\\machle\\venv\\lib\\site-packages (from tensorboard~=2.6->tensorflow) (2.26.0)\n",
      "Requirement already satisfied: tensorboard-data-server<0.7.0,>=0.6.0 in c:\\users\\jonat\\desktop\\machle\\venv\\lib\\site-packages (from tensorboard~=2.6->tensorflow) (0.6.1)\n",
      "Requirement already satisfied: tensorboard-plugin-wit>=1.6.0 in c:\\users\\jonat\\desktop\\machle\\venv\\lib\\site-packages (from tensorboard~=2.6->tensorflow) (1.8.0)\n",
      "Requirement already satisfied: markdown>=2.6.8 in c:\\users\\jonat\\desktop\\machle\\venv\\lib\\site-packages (from tensorboard~=2.6->tensorflow) (3.3.6)\n",
      "Requirement already satisfied: werkzeug>=0.11.15 in c:\\users\\jonat\\desktop\\machle\\venv\\lib\\site-packages (from tensorboard~=2.6->tensorflow) (2.0.2)\n",
      "Requirement already satisfied: pyasn1-modules>=0.2.1 in c:\\users\\jonat\\desktop\\machle\\venv\\lib\\site-packages (from google-auth<3,>=1.6.3->tensorboard~=2.6->tensorflow) (0.2.8)\n",
      "Requirement already satisfied: cachetools<5.0,>=2.0.0 in c:\\users\\jonat\\desktop\\machle\\venv\\lib\\site-packages (from google-auth<3,>=1.6.3->tensorboard~=2.6->tensorflow) (4.2.4)\n",
      "Requirement already satisfied: rsa<5,>=3.1.4 in c:\\users\\jonat\\desktop\\machle\\venv\\lib\\site-packages (from google-auth<3,>=1.6.3->tensorboard~=2.6->tensorflow) (4.8)\n",
      "Requirement already satisfied: requests-oauthlib>=0.7.0 in c:\\users\\jonat\\desktop\\machle\\venv\\lib\\site-packages (from google-auth-oauthlib<0.5,>=0.4.1->tensorboard~=2.6->tensorflow) (1.3.0)\n",
      "Requirement already satisfied: importlib-metadata>=4.4 in c:\\users\\jonat\\desktop\\machle\\venv\\lib\\site-packages (from markdown>=2.6.8->tensorboard~=2.6->tensorflow) (4.8.1)\n",
      "Requirement already satisfied: certifi>=2017.4.17 in c:\\users\\jonat\\desktop\\machle\\venv\\lib\\site-packages (from requests<3,>=2.21.0->tensorboard~=2.6->tensorflow) (2021.10.8)\n",
      "Requirement already satisfied: charset-normalizer~=2.0.0 in c:\\users\\jonat\\desktop\\machle\\venv\\lib\\site-packages (from requests<3,>=2.21.0->tensorboard~=2.6->tensorflow) (2.0.7)\n",
      "Requirement already satisfied: urllib3<1.27,>=1.21.1 in c:\\users\\jonat\\desktop\\machle\\venv\\lib\\site-packages (from requests<3,>=2.21.0->tensorboard~=2.6->tensorflow) (1.26.7)\n",
      "Requirement already satisfied: idna<4,>=2.5 in c:\\users\\jonat\\desktop\\machle\\venv\\lib\\site-packages (from requests<3,>=2.21.0->tensorboard~=2.6->tensorflow) (3.3)\n",
      "Requirement already satisfied: zipp>=0.5 in c:\\users\\jonat\\desktop\\machle\\venv\\lib\\site-packages (from importlib-metadata>=4.4->markdown>=2.6.8->tensorboard~=2.6->tensorflow) (3.5.0)\n",
      "Requirement already satisfied: pyasn1<0.5.0,>=0.4.6 in c:\\users\\jonat\\desktop\\machle\\venv\\lib\\site-packages (from pyasn1-modules>=0.2.1->google-auth<3,>=1.6.3->tensorboard~=2.6->tensorflow) (0.4.8)\n",
      "Requirement already satisfied: oauthlib>=3.0.0 in c:\\users\\jonat\\desktop\\machle\\venv\\lib\\site-packages (from requests-oauthlib>=0.7.0->google-auth-oauthlib<0.5,>=0.4.1->tensorboard~=2.6->tensorflow) (3.1.1)\n",
      "Note: you may need to restart the kernel to use updated packages.\n",
      "Requirement already satisfied: keras in c:\\users\\jonat\\desktop\\machle\\venv\\lib\\site-packages (2.7.0)\n",
      "Note: you may need to restart the kernel to use updated packages.\n"
     ]
    }
   ],
   "source": [
    "%pip install tensorflow --upgrade\n",
    "%pip install keras --upgrade\n",
    "\n",
    "import numpy as np\n",
    "from matplotlib import pyplot as pl\n",
    "\n",
    "from tensorflow.keras.datasets import mnist\n",
    "from tensorflow.keras.models import Model\n",
    "from tensorflow.keras.layers import Dense, Dropout, Flatten\n",
    "from tensorflow.keras.optimizers import RMSprop\n",
    "from tensorflow.keras import utils as np_utils\n",
    "from tensorflow.keras.layers import Conv2D, MaxPooling2D\n",
    "from tensorflow.keras.layers import Input\n",
    "from sklearn import metrics as me\n",
    "from scipy import stats\n",
    "\n",
    "%matplotlib inline"
   ]
  },
  {
   "cell_type": "markdown",
   "metadata": {
    "id": "vbttXt8SbfOH"
   },
   "source": [
    "First, create some useful functions"
   ]
  },
  {
   "cell_type": "code",
   "execution_count": 2,
   "metadata": {
    "executionInfo": {
     "elapsed": 467,
     "status": "ok",
     "timestamp": 1638275067373,
     "user": {
      "displayName": "Jonatan Baumgartner",
      "photoUrl": "https://lh3.googleusercontent.com/a/default-user=s64",
      "userId": "17476659832061139850"
     },
     "user_tz": -60
    },
    "id": "jAR9jPgybfOO"
   },
   "outputs": [],
   "source": [
    "def build_grid_of_images(array):\n",
    "    assert len(array.shape) == 3\n",
    "    dim_0 = np.sqrt(array.shape[0])\n",
    "    assert dim_0.is_integer()\n",
    "    \n",
    "    temp_out = np.reshape(array, (dim_0, dim_0, array.shape[1], array.shape[2]))\n",
    "    temp_out = np.rollaxis(temp_out, 1, 3)\n",
    "    return np.reshape(temp_out, (dim_0*array.shape[1], dim_0*array.shape[2]))\n",
    "\n",
    "#a = np.array(np.arange(36))\n",
    "#print a\n",
    "\n",
    "#b = np.reshape(a, (4,3,3))\n",
    "#print b[0,:,:]\n",
    "#print b[1,:,:]\n",
    "\n",
    "#c = build_grid_of_images(b)\n",
    "#print c\n",
    "\n",
    "def plot_conv_layer_output(temp_out, title):\n",
    "    temp_to_plot = build_grid_of_images(temp_out)\n",
    "    pl.imshow(temp_to_plot, interpolation='nearest', cmap=pl.get_cmap('Greys'))\n",
    "    ax = pl.gca()\n",
    "    ax.set_xticks(np.arange(-0.5, temp_to_plot.shape[0]+0.5, temp_out.shape[1]))    \n",
    "    ax.set_yticks(np.arange(-0.5, temp_to_plot.shape[0]+0.5, temp_out.shape[2]))\n",
    "    pl.grid()\n",
    "    pl.tick_params(axis='both', which='both', bottom='off', top='off', left='off', right='off', labelbottom='off', labelleft='off')\n",
    "    pl.title(title)\n",
    "\n",
    "def plot_dense_layer_output(temp_out, title):\n",
    "    pl.bar(np.arange(temp_out.shape[1])-0.4, temp_out[0,:])\n",
    "    pl.xlim(-0.5, temp_out.shape[1])\n",
    "    pl.grid()\n",
    "    pl.title(title)"
   ]
  },
  {
   "cell_type": "markdown",
   "metadata": {
    "id": "3fVOW4jGbfOb"
   },
   "source": [
    "Load the `mnist` dataset and normalize in the range [0, 1]"
   ]
  },
  {
   "cell_type": "code",
   "execution_count": 3,
   "metadata": {
    "colab": {
     "base_uri": "https://localhost:8080/"
    },
    "executionInfo": {
     "elapsed": 901,
     "status": "ok",
     "timestamp": 1638275071572,
     "user": {
      "displayName": "Jonatan Baumgartner",
      "photoUrl": "https://lh3.googleusercontent.com/a/default-user=s64",
      "userId": "17476659832061139850"
     },
     "user_tz": -60
    },
    "id": "2H2K3S4MbfOf",
    "outputId": "7652d9e6-4c2a-480b-da96-30509c622352"
   },
   "outputs": [
    {
     "name": "stdout",
     "output_type": "stream",
     "text": [
      "60000 train samples\n",
      "10000 test samples\n"
     ]
    }
   ],
   "source": [
    "(X_train, y_train), (X_test, y_test) = mnist.load_data()\n",
    "\n",
    "n_train, height, width = X_train.shape\n",
    "n_test, _, _ = X_test.shape\n",
    "\n",
    "X_train = X_train.reshape(n_train, height, width, 1).astype('float32')\n",
    "X_test = X_test.reshape(n_test, height, width, 1).astype('float32')\n",
    "\n",
    "X_train /= 255.0\n",
    "X_test /= 255.0\n",
    "\n",
    "n_classes = 10\n",
    "\n",
    "print(n_train, 'train samples')\n",
    "print(n_test, 'test samples')\n",
    "\n",
    "# convert class vectors to binary class matrices\n",
    "Y_train = np_utils.to_categorical(y_train, n_classes)\n",
    "Y_test = np_utils.to_categorical(y_test, n_classes)"
   ]
  },
  {
   "cell_type": "markdown",
   "metadata": {
    "id": "2B-WNiQUbfOq"
   },
   "source": [
    "Create the CNN and show its architecture"
   ]
  },
  {
   "cell_type": "code",
   "execution_count": 4,
   "metadata": {
    "colab": {
     "base_uri": "https://localhost:8080/"
    },
    "executionInfo": {
     "elapsed": 3019,
     "status": "ok",
     "timestamp": 1638275077528,
     "user": {
      "displayName": "Jonatan Baumgartner",
      "photoUrl": "https://lh3.googleusercontent.com/a/default-user=s64",
      "userId": "17476659832061139850"
     },
     "user_tz": -60
    },
    "id": "yhOscSNPbfOt",
    "outputId": "8a7d3761-42ec-4e48-d685-cd9d626c0235"
   },
   "outputs": [
    {
     "name": "stdout",
     "output_type": "stream",
     "text": [
      "Model: \"model\"\n",
      "_________________________________________________________________\n",
      " Layer (type)                Output Shape              Param #   \n",
      "=================================================================\n",
      " l0 (InputLayer)             [(None, 28, 28, 1)]       0         \n",
      "                                                                 \n",
      " l1 (Conv2D)                 (None, 28, 28, 9)         234       \n",
      "                                                                 \n",
      " l1_mp (MaxPooling2D)        (None, 14, 14, 9)         0         \n",
      "                                                                 \n",
      " l2 (Conv2D)                 (None, 14, 14, 9)         2034      \n",
      "                                                                 \n",
      " l2_mp (MaxPooling2D)        (None, 7, 7, 9)           0         \n",
      "                                                                 \n",
      " l3 (Conv2D)                 (None, 7, 7, 16)          1312      \n",
      "                                                                 \n",
      " l3_mp (MaxPooling2D)        (None, 3, 3, 16)          0         \n",
      "                                                                 \n",
      " flat (Flatten)              (None, 144)               0         \n",
      "                                                                 \n",
      " l4 (Dense)                  (None, 50)                7250      \n",
      "                                                                 \n",
      " l5 (Dense)                  (None, 10)                510       \n",
      "                                                                 \n",
      "=================================================================\n",
      "Total params: 11,340\n",
      "Trainable params: 11,340\n",
      "Non-trainable params: 0\n",
      "_________________________________________________________________\n"
     ]
    }
   ],
   "source": [
    "l0 = Input(shape=(height, width, 1), name='l0')\n",
    "\n",
    "l1 = Conv2D(9, (5, 5), padding='same', activation='relu', name='l1')(l0)\n",
    "l1_mp = MaxPooling2D(pool_size=(2, 2), name='l1_mp')(l1)\n",
    "\n",
    "l2 = Conv2D(9, (5, 5), padding='same', activation='relu', name='l2')(l1_mp)\n",
    "l2_mp = MaxPooling2D(pool_size=(2, 2), name='l2_mp')(l2)\n",
    "\n",
    "l3 = Conv2D(16, (3, 3), padding='same', activation='relu', name='l3')(l2_mp)\n",
    "l3_mp = MaxPooling2D(pool_size=(2, 2), name='l3_mp')(l3)\n",
    "\n",
    "flat = Flatten(name='flat')(l3_mp)\n",
    "\n",
    "l4 = Dense(50, activation='relu', name='l4')(flat)\n",
    "\n",
    "l5 = Dense(n_classes, activation='softmax', name='l5')(l4)\n",
    "\n",
    "model = Model(inputs=l0, outputs=l5)\n",
    "model.summary()"
   ]
  },
  {
   "cell_type": "markdown",
   "metadata": {
    "id": "sP_cugPCbfO6"
   },
   "source": [
    "Define some constants and train de CNN"
   ]
  },
  {
   "cell_type": "code",
   "execution_count": 5,
   "metadata": {
    "colab": {
     "base_uri": "https://localhost:8080/"
    },
    "executionInfo": {
     "elapsed": 83525,
     "status": "ok",
     "timestamp": 1638275183139,
     "user": {
      "displayName": "Jonatan Baumgartner",
      "photoUrl": "https://lh3.googleusercontent.com/a/default-user=s64",
      "userId": "17476659832061139850"
     },
     "user_tz": -60
    },
    "id": "l8eKqD80bfPB",
    "outputId": "aa9e9f53-963b-4167-d245-397c07d54eb3"
   },
   "outputs": [
    {
     "name": "stdout",
     "output_type": "stream",
     "text": [
      "Epoch 1/10\n",
      "469/469 [==============================] - 11s 23ms/step - loss: 0.4312 - accuracy: 0.8738 - val_loss: 0.1364 - val_accuracy: 0.9600\n",
      "Epoch 2/10\n",
      "469/469 [==============================] - 11s 22ms/step - loss: 0.1230 - accuracy: 0.9627 - val_loss: 0.0846 - val_accuracy: 0.9730\n",
      "Epoch 3/10\n",
      "469/469 [==============================] - 11s 23ms/step - loss: 0.0882 - accuracy: 0.9722 - val_loss: 0.0904 - val_accuracy: 0.9716\n",
      "Epoch 4/10\n",
      "469/469 [==============================] - 11s 22ms/step - loss: 0.0707 - accuracy: 0.9780 - val_loss: 0.0698 - val_accuracy: 0.9780\n",
      "Epoch 5/10\n",
      "469/469 [==============================] - 10s 22ms/step - loss: 0.0588 - accuracy: 0.9822 - val_loss: 0.0555 - val_accuracy: 0.9825\n",
      "Epoch 6/10\n",
      "469/469 [==============================] - 10s 22ms/step - loss: 0.0512 - accuracy: 0.9841 - val_loss: 0.0553 - val_accuracy: 0.9815\n",
      "Epoch 7/10\n",
      "469/469 [==============================] - 10s 22ms/step - loss: 0.0450 - accuracy: 0.9856 - val_loss: 0.0448 - val_accuracy: 0.9850\n",
      "Epoch 8/10\n",
      "469/469 [==============================] - 10s 22ms/step - loss: 0.0396 - accuracy: 0.9875 - val_loss: 0.0397 - val_accuracy: 0.9865\n",
      "Epoch 9/10\n",
      "469/469 [==============================] - 10s 22ms/step - loss: 0.0369 - accuracy: 0.9885 - val_loss: 0.0528 - val_accuracy: 0.9827\n",
      "Epoch 10/10\n",
      "469/469 [==============================] - 10s 22ms/step - loss: 0.0334 - accuracy: 0.9897 - val_loss: 0.0484 - val_accuracy: 0.9850\n"
     ]
    }
   ],
   "source": [
    "batch_size = 128\n",
    "n_epoch = 10\n",
    "\n",
    "model.compile(loss='categorical_crossentropy', optimizer=RMSprop(), metrics=['accuracy'])\n",
    "history = model.fit(X_train, Y_train, batch_size=batch_size, epochs=n_epoch, verbose=1, validation_data=(X_test, Y_test))"
   ]
  },
  {
   "cell_type": "markdown",
   "metadata": {
    "id": "IBX2Tc_0bfPK"
   },
   "source": [
    "Show the performance of the model"
   ]
  },
  {
   "cell_type": "code",
   "execution_count": 6,
   "metadata": {
    "colab": {
     "base_uri": "https://localhost:8080/",
     "height": 302
    },
    "executionInfo": {
     "elapsed": 1785,
     "status": "ok",
     "timestamp": 1638275189650,
     "user": {
      "displayName": "Jonatan Baumgartner",
      "photoUrl": "https://lh3.googleusercontent.com/a/default-user=s64",
      "userId": "17476659832061139850"
     },
     "user_tz": -60
    },
    "id": "WeaMjl-EbfPS",
    "outputId": "3c3c7dd3-14a9-4cf2-e55d-ddbb70c9f584"
   },
   "outputs": [
    {
     "name": "stdout",
     "output_type": "stream",
     "text": [
      "Test score: 0.04839566349983215\n",
      "Test accuracy: 0.9850000143051147\n"
     ]
    },
    {
     "data": {
      "image/png": "[encoded data removed]",
      "text/plain": [
       "<Figure size 432x288 with 1 Axes>"
      ]
     },
     "metadata": {
      "needs_background": "light"
     },
     "output_type": "display_data"
    }
   ],
   "source": [
    "pl.plot(history.history['loss'], label='Training')\n",
    "pl.plot(history.history['val_loss'], label='Testing')\n",
    "pl.legend()\n",
    "pl.grid()\n",
    "\n",
    "score = model.evaluate(X_test, Y_test, verbose=0)\n",
    "print('Test score:', score[0])\n",
    "print('Test accuracy:', score[1])"
   ]
  },
  {
   "cell_type": "code",
   "execution_count": 7,
   "metadata": {
    "colab": {
     "base_uri": "https://localhost:8080/"
    },
    "executionInfo": {
     "elapsed": 1183,
     "status": "ok",
     "timestamp": 1638275194537,
     "user": {
      "displayName": "Jonatan Baumgartner",
      "photoUrl": "https://lh3.googleusercontent.com/a/default-user=s64",
      "userId": "17476659832061139850"
     },
     "user_tz": -60
    },
    "id": "fn3LE47gbfPf",
    "outputId": "7df0c98d-32fb-4465-dacd-c0e5a707f799"
   },
   "outputs": [
    {
     "name": "stdout",
     "output_type": "stream",
     "text": [
      "[[6.1368070e-08 1.6468295e-08 1.0468614e-06 ... 9.9999082e-01\n",
      "  7.9725293e-09 2.7131762e-07]\n",
      " [1.5227473e-06 9.8879286e-07 9.9999738e-01 ... 3.0030442e-10\n",
      "  1.1963651e-08 6.3272494e-14]\n",
      " [1.3507696e-05 9.9819130e-01 4.1329451e-05 ... 2.9797584e-04\n",
      "  6.9359172e-05 2.0987114e-05]\n",
      " ...\n",
      " [4.8532775e-12 7.4584700e-10 1.0627134e-07 ... 7.8010920e-08\n",
      "  1.6996226e-05 3.7632169e-06]\n",
      " [6.0779723e-09 3.5779515e-17 2.3968540e-14 ... 7.4807180e-15\n",
      "  3.4336033e-04 4.7484323e-09]\n",
      " [8.2894076e-08 6.4984444e-15 4.3981416e-11 ... 9.5447645e-15\n",
      "  5.1329194e-09 5.7688506e-13]]\n"
     ]
    }
   ],
   "source": [
    "pred = model.predict_on_batch(X_test)\n",
    "print(pred)"
   ]
  },
  {
   "cell_type": "markdown",
   "metadata": {
    "id": "rXNZ2ZHSbfPm"
   },
   "source": [
    "Confusion matrix"
   ]
  },
  {
   "cell_type": "code",
   "execution_count": 8,
   "metadata": {
    "colab": {
     "base_uri": "https://localhost:8080/"
    },
    "executionInfo": {
     "elapsed": 356,
     "status": "ok",
     "timestamp": 1638275196863,
     "user": {
      "displayName": "Jonatan Baumgartner",
      "photoUrl": "https://lh3.googleusercontent.com/a/default-user=s64",
      "userId": "17476659832061139850"
     },
     "user_tz": -60
    },
    "id": "XfgRipFebfPm",
    "outputId": "c5a27427-8ec9-470c-a41c-e77349abedae"
   },
   "outputs": [
    {
     "data": {
      "text/plain": [
       "array([[ 974,    0,    2,    0,    0,    0,    1,    1,    2,    0],\n",
       "       [   1, 1100,    5,    2,    1,    3,    4,    2,   17,    0],\n",
       "       [   0,    0, 1020,    9,    0,    0,    0,    1,    2,    0],\n",
       "       [   0,    0,    1, 1004,    0,    2,    0,    2,    1,    0],\n",
       "       [   0,    0,    1,    0,  970,    0,    0,    1,    1,    9],\n",
       "       [   0,    0,    0,    4,    0,  882,    1,    1,    4,    0],\n",
       "       [   6,    1,    1,    1,    2,    3,  941,    0,    3,    0],\n",
       "       [   0,    0,   12,    4,    0,    0,    0, 1008,    2,    2],\n",
       "       [   1,    0,    1,    4,    0,    0,    1,    1,  965,    1],\n",
       "       [   2,    0,    2,    4,    4,    2,    0,    3,    6,  986]],\n",
       "      dtype=int64)"
      ]
     },
     "execution_count": 8,
     "metadata": {},
     "output_type": "execute_result"
    }
   ],
   "source": [
    "pred = model.predict_on_batch(X_test)\n",
    "pred = np.argmax(pred, axis=-1)\n",
    "me.confusion_matrix(y_test, pred)"
   ]
  },
  {
   "cell_type": "code",
   "execution_count": 9,
   "metadata": {},
   "outputs": [
    {
     "name": "stdout",
     "output_type": "stream",
     "text": [
      "Requirement already satisfied: seaborn in c:\\users\\jonat\\desktop\\machle\\venv\\lib\\site-packages (0.11.2)\n",
      "Requirement already satisfied: numpy>=1.15 in c:\\users\\jonat\\desktop\\machle\\venv\\lib\\site-packages (from seaborn) (1.21.2)\n",
      "Requirement already satisfied: scipy>=1.0 in c:\\users\\jonat\\desktop\\machle\\venv\\lib\\site-packages (from seaborn) (1.7.1)\n",
      "Requirement already satisfied: matplotlib>=2.2 in c:\\users\\jonat\\desktop\\machle\\venv\\lib\\site-packages (from seaborn) (3.4.3)\n",
      "Requirement already satisfied: pandas>=0.23 in c:\\users\\jonat\\desktop\\machle\\venv\\lib\\site-packages (from seaborn) (1.3.3)\n",
      "Requirement already satisfied: pillow>=6.2.0 in c:\\users\\jonat\\desktop\\machle\\venv\\lib\\site-packages (from matplotlib>=2.2->seaborn) (8.3.2)\n",
      "Requirement already satisfied: pyparsing>=2.2.1 in c:\\users\\jonat\\desktop\\machle\\venv\\lib\\site-packages (from matplotlib>=2.2->seaborn) (2.4.7)\n",
      "Requirement already satisfied: cycler>=0.10 in c:\\users\\jonat\\desktop\\machle\\venv\\lib\\site-packages (from matplotlib>=2.2->seaborn) (0.10.0)\n",
      "Requirement already satisfied: kiwisolver>=1.0.1 in c:\\users\\jonat\\desktop\\machle\\venv\\lib\\site-packages (from matplotlib>=2.2->seaborn) (1.3.2)\n",
      "Requirement already satisfied: python-dateutil>=2.7 in c:\\users\\jonat\\desktop\\machle\\venv\\lib\\site-packages (from matplotlib>=2.2->seaborn) (2.8.2)Note: you may need to restart the kernel to use updated packages.\n",
      "Requirement already satisfied: pytz>=2017.3 in c:\\users\\jonat\\desktop\\machle\\venv\\lib\\site-packages (from pandas>=0.23->seaborn) (2021.1)\n",
      "Requirement already satisfied: six in c:\\users\\jonat\\desktop\\machle\\venv\\lib\\site-packages (from cycler>=0.10->matplotlib>=2.2->seaborn) (1.16.0)\n",
      "\n"
     ]
    },
    {
     "data": {
      "image/png": "[encoded data removed]",
      "text/plain": [
       "<Figure size 432x288 with 1 Axes>"
      ]
     },
     "metadata": {
      "needs_background": "light"
     },
     "output_type": "display_data"
    }
   ],
   "source": [
    "%pip install seaborn --upgrade\n",
    "import seaborn as sns\n",
    "def plot_confusion_matrix(y_true, y_pred):\n",
    "    unique_labels = np.unique(y_true)\n",
    "    cm = me.confusion_matrix(y_true, y_pred)\n",
    "    \n",
    "    sns.heatmap(\n",
    "        cm, annot=True, fmt='g',\n",
    "        xticklabels=unique_labels, yticklabels=unique_labels,\n",
    "        square=True, cbar=False,\n",
    "        cmap=\"Blues\"\n",
    "    )\n",
    "    pl.xlabel(\"Predicted labels\")\n",
    "    pl.ylabel(\"True labels\")\n",
    "\n",
    "    pl.show()\n",
    "\n",
    "plot_confusion_matrix(y_test, pred)"
   ]
  }
 ],
 "metadata": {
  "accelerator": "GPU",
  "colab": {
   "collapsed_sections": [],
   "name": "CNN.ipynb",
   "provenance": [
    {
     "file_id": "1l8U6vJ_B7behMo6YJsrQ0fdH2AGOF4XX",
     "timestamp": 1573814246791
    }
   ]
  },
  "kernelspec": {
   "display_name": "Python 3 (ipykernel)",
   "language": "python",
   "name": "python3"
  },
  "language_info": {
   "codemirror_mode": {
    "name": "ipython",
    "version": 3
   },
   "file_extension": ".py",
   "mimetype": "text/x-python",
   "name": "python",
   "nbconvert_exporter": "python",
   "pygments_lexer": "ipython3",
   "version": "3.7.7"
  }
 },
 "nbformat": 4,
 "nbformat_minor": 1
}
