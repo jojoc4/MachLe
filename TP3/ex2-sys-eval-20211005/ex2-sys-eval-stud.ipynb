{
 "cells": [
  {
   "cell_type": "markdown",
   "source": [
    "Jonatan Baumgartner Massimo De Santis Florian Feuillade"
   ],
   "metadata": {
    "collapsed": false
   }
  },
  {
   "cell_type": "markdown",
   "id": "bcf79585",
   "metadata": {},
   "source": [
    "# Exercice 2 - System evaluation"
   ]
  },
  {
   "cell_type": "markdown",
   "id": "f642cedb",
   "metadata": {},
   "source": [
    "## Imports"
   ]
  },
  {
   "cell_type": "code",
   "execution_count": 159,
   "id": "9421a4e1",
   "metadata": {},
   "outputs": [],
   "source": [
    "import pandas as pd\n",
    "import numpy as np"
   ]
  },
  {
   "cell_type": "markdown",
   "id": "a0d67fa6",
   "metadata": {},
   "source": [
    "## Load data"
   ]
  },
  {
   "cell_type": "markdown",
   "id": "5fe90672",
   "metadata": {},
   "source": [
    "Define the path of the data file"
   ]
  },
  {
   "cell_type": "code",
   "execution_count": 160,
   "id": "ecd4a4cf",
   "metadata": {},
   "outputs": [],
   "source": [
    "path = \"ex2-system-a.csv\""
   ]
  },
  {
   "cell_type": "markdown",
   "id": "246e7392",
   "metadata": {},
   "source": [
    "Read the CSV file using `read_csv`"
   ]
  },
  {
   "cell_type": "code",
   "execution_count": 161,
   "id": "623096a5",
   "metadata": {},
   "outputs": [],
   "source": [
    "dataset_a = pd.read_csv(path, sep=\";\", index_col=False, names=[\"0\", \"1\", \"2\", \"3\", \"4\", \"5\", \"6\", \"7\", \"8\", \"9\", \"y_true\"])"
   ]
  },
  {
   "cell_type": "markdown",
   "id": "6f764c56",
   "metadata": {},
   "source": [
    "Display first rows"
   ]
  },
  {
   "cell_type": "code",
   "execution_count": 162,
   "id": "c59a1651",
   "metadata": {},
   "outputs": [
    {
     "data": {
      "text/plain": "              0             1             2             3             4  \\\n0  5.348450e-08  7.493480e-10  8.083470e-07  2.082290e-05  5.222360e-10   \n1  1.334270e-03  3.202960e-05  8.504280e-01  1.669090e-03  1.546460e-07   \n2  3.643050e-06  9.962760e-01  2.045910e-03  4.210530e-04  2.194020e-05   \n3  9.998200e-01  2.550390e-10  1.112010e-05  1.653200e-05  5.375730e-10   \n4  2.092460e-08  7.464220e-08  3.560820e-05  5.496200e-07  9.988960e-01   \n\n              5             6             7             8         9  y_true  \n0  2.330260e-08  5.241270e-12  9.999650e-01  4.808590e-07  0.000013       7  \n1  2.412940e-04  1.448280e-01  1.122810e-11  1.456330e-03  0.000011       2  \n2  1.644130e-05  2.838160e-04  3.722960e-04  5.150120e-04  0.000044       1  \n3  8.999750e-05  9.380920e-06  4.464470e-05  2.418440e-06  0.000006       0  \n4  3.070920e-08  2.346150e-04  9.748010e-07  1.071610e-06  0.000831       4  ",
      "text/html": "<div>\n<style scoped>\n    .dataframe tbody tr th:only-of-type {\n        vertical-align: middle;\n    }\n\n    .dataframe tbody tr th {\n        vertical-align: top;\n    }\n\n    .dataframe thead th {\n        text-align: right;\n    }\n</style>\n<table border=\"1\" class=\"dataframe\">\n  <thead>\n    <tr style=\"text-align: right;\">\n      <th></th>\n      <th>0</th>\n      <th>1</th>\n      <th>2</th>\n      <th>3</th>\n      <th>4</th>\n      <th>5</th>\n      <th>6</th>\n      <th>7</th>\n      <th>8</th>\n      <th>9</th>\n      <th>y_true</th>\n    </tr>\n  </thead>\n  <tbody>\n    <tr>\n      <th>0</th>\n      <td>5.348450e-08</td>\n      <td>7.493480e-10</td>\n      <td>8.083470e-07</td>\n      <td>2.082290e-05</td>\n      <td>5.222360e-10</td>\n      <td>2.330260e-08</td>\n      <td>5.241270e-12</td>\n      <td>9.999650e-01</td>\n      <td>4.808590e-07</td>\n      <td>0.000013</td>\n      <td>7</td>\n    </tr>\n    <tr>\n      <th>1</th>\n      <td>1.334270e-03</td>\n      <td>3.202960e-05</td>\n      <td>8.504280e-01</td>\n      <td>1.669090e-03</td>\n      <td>1.546460e-07</td>\n      <td>2.412940e-04</td>\n      <td>1.448280e-01</td>\n      <td>1.122810e-11</td>\n      <td>1.456330e-03</td>\n      <td>0.000011</td>\n      <td>2</td>\n    </tr>\n    <tr>\n      <th>2</th>\n      <td>3.643050e-06</td>\n      <td>9.962760e-01</td>\n      <td>2.045910e-03</td>\n      <td>4.210530e-04</td>\n      <td>2.194020e-05</td>\n      <td>1.644130e-05</td>\n      <td>2.838160e-04</td>\n      <td>3.722960e-04</td>\n      <td>5.150120e-04</td>\n      <td>0.000044</td>\n      <td>1</td>\n    </tr>\n    <tr>\n      <th>3</th>\n      <td>9.998200e-01</td>\n      <td>2.550390e-10</td>\n      <td>1.112010e-05</td>\n      <td>1.653200e-05</td>\n      <td>5.375730e-10</td>\n      <td>8.999750e-05</td>\n      <td>9.380920e-06</td>\n      <td>4.464470e-05</td>\n      <td>2.418440e-06</td>\n      <td>0.000006</td>\n      <td>0</td>\n    </tr>\n    <tr>\n      <th>4</th>\n      <td>2.092460e-08</td>\n      <td>7.464220e-08</td>\n      <td>3.560820e-05</td>\n      <td>5.496200e-07</td>\n      <td>9.988960e-01</td>\n      <td>3.070920e-08</td>\n      <td>2.346150e-04</td>\n      <td>9.748010e-07</td>\n      <td>1.071610e-06</td>\n      <td>0.000831</td>\n      <td>4</td>\n    </tr>\n  </tbody>\n</table>\n</div>"
     },
     "execution_count": 162,
     "metadata": {},
     "output_type": "execute_result"
    }
   ],
   "source": [
    "dataset_a.head()"
   ]
  },
  {
   "cell_type": "markdown",
   "id": "41f040b0",
   "metadata": {},
   "source": [
    "Store some useful statistics (class names + number of classes)"
   ]
  },
  {
   "cell_type": "code",
   "execution_count": 163,
   "id": "fd0adce4",
   "metadata": {},
   "outputs": [],
   "source": [
    "class_names = [\"0\", \"1\", \"2\", \"3\", \"4\", \"5\", \"6\", \"7\", \"8\", \"9\"]\n",
    "nb_classes = len(class_names)"
   ]
  },
  {
   "cell_type": "markdown",
   "id": "5a0ab85a",
   "metadata": {},
   "source": [
    "## Exercise's steps"
   ]
  },
  {
   "cell_type": "markdown",
   "source": [
    "a) Write a function to take classification decisions on such outputs according to Bayes’rule."
   ],
   "metadata": {
    "collapsed": false,
    "pycharm": {
     "name": "#%% md\n"
    }
   }
  },
  {
   "cell_type": "code",
   "id": "66ae582e",
   "metadata": {
    "pycharm": {
     "name": "#%%\n"
    }
   },
   "source": [
    "def bayes_classification(df):\n",
    "    \"\"\"\n",
    "    Take classification decisions according to Bayes rule.\n",
    "        \n",
    "    Parameters\n",
    "    ----------\n",
    "    df : Pandas DataFrame of shape (n_samples, n_features + ground truth)\n",
    "         Dataset.\n",
    "         \n",
    "    Returns\n",
    "    -------\n",
    "    preds : Numpy array of shape (n_samples,)\n",
    "            Class labels for each data sample.\n",
    "    \"\"\"\n",
    "    # Your code here\n",
    "    ground_true = df[\"y_true\"]\n",
    "    df_no_y = df.drop(\"y_true\", axis=1)\n",
    "\n",
    "    maxValueIndexObj = df_no_y.idxmax(axis=1)\n",
    "    return maxValueIndexObj.astype(int).to_numpy()"
   ],
   "execution_count": 164,
   "outputs": []
  },
  {
   "cell_type": "code",
   "execution_count": 165,
   "outputs": [],
   "source": [
    "bayes_pred = bayes_classification(dataset_a)"
   ],
   "metadata": {
    "collapsed": false,
    "pycharm": {
     "name": "#%%\n"
    }
   }
  },
  {
   "cell_type": "markdown",
   "id": "b5e8140b",
   "metadata": {},
   "source": [
    "b) What is the overall error rate of the system ?"
   ]
  },
  {
   "cell_type": "code",
   "execution_count": 166,
   "id": "f3b21bfb",
   "metadata": {},
   "outputs": [
    {
     "data": {
      "text/plain": "0.1073"
     },
     "execution_count": 166,
     "metadata": {},
     "output_type": "execute_result"
    }
   ],
   "source": [
    "# Your code here: compute and print the error rate of the system\n",
    "def error_rate(df, bayes_pred):\n",
    "    return (df[\"y_true\"].to_numpy() != bayes_pred).sum() / bayes_pred.size\n",
    "\n",
    "error_rate(dataset_a, bayes_pred)"
   ]
  },
  {
   "cell_type": "markdown",
   "id": "a4f0fa5f",
   "metadata": {},
   "source": [
    "c) Compute and report the confusion matrix of the system."
   ]
  },
  {
   "cell_type": "code",
   "execution_count": 167,
   "id": "bb106415",
   "metadata": {},
   "outputs": [],
   "source": [
    "def confusion_matrix(y_true, y_pred, n_classes):\n",
    "    \"\"\"\n",
    "    Compute the confusion matrix.\n",
    "        \n",
    "    Parameters\n",
    "    ----------\n",
    "    y_true : Numpy array of shape (n_samples,)\n",
    "             Ground truth.\n",
    "    y_pred : Numpy array of shape (n_samples,)\n",
    "             Predictions.\n",
    "    n_classes : Integer\n",
    "                Number of classes.\n",
    "         \n",
    "    Returns\n",
    "    -------\n",
    "    cm : Numpy array of shape (n_classes, n_classes)\n",
    "         Confusion matrix.\n",
    "    \"\"\"\n",
    "    # Your code here\n",
    "    conf_mat = np.array([[0 for x in range(nb_classes)] for x in range(nb_classes)])\n",
    "    for i in range(len(y_true)) :\n",
    "        conf_mat[y_true[i]][y_pred[i]] = conf_mat[y_true[i]][y_pred[i]] + 1\n",
    "    return conf_mat"
   ]
  },
  {
   "cell_type": "code",
   "execution_count": 168,
   "id": "1b38e3a8",
   "metadata": {},
   "outputs": [
    {
     "data": {
      "text/plain": "array([[ 944,    0,   11,    0,    0,    2,   10,    7,    5,    1],\n       [   0, 1112,    2,    3,    1,    4,    3,    1,    9,    0],\n       [  10,    6,  921,   12,   15,    3,   19,   15,   26,    5],\n       [   1,    1,   31,  862,    2,   72,    5,   14,   12,   10],\n       [   2,    3,    6,    2,  910,    1,   12,    6,    4,   36],\n       [  12,    3,    6,   29,   19,  768,   19,    9,   21,    6],\n       [  14,    3,   21,    2,   22,   28,  865,    0,    3,    0],\n       [   0,   14,   30,    9,    7,    2,    1,  929,    3,   33],\n       [  12,   16,   18,   26,   24,   46,   22,   19,  772,   19],\n       [  10,    4,    6,   22,   53,   18,    0,   48,    4,  844]])"
     },
     "execution_count": 168,
     "metadata": {},
     "output_type": "execute_result"
    }
   ],
   "source": [
    "# Your code here: compute and print the confusion matrix\n",
    "cm = confusion_matrix(dataset_a[\"y_true\"].to_numpy(), bayes_pred, 10)\n",
    "cm"
   ]
  },
  {
   "cell_type": "markdown",
   "id": "ed8db908",
   "metadata": {},
   "source": [
    "d) What are the worst and best classes in terms of precision and recall ?"
   ]
  },
  {
   "cell_type": "code",
   "execution_count": 169,
   "id": "0e229ce0",
   "metadata": {},
   "outputs": [
    {
     "data": {
      "text/plain": "array([0.93930348, 0.95697074, 0.87547529, 0.89141675, 0.86419753,\n       0.81355932, 0.90481172, 0.88645038, 0.89871944, 0.88469602])"
     },
     "execution_count": 169,
     "metadata": {},
     "output_type": "execute_result"
    }
   ],
   "source": [
    "def precision_per_class(cm):\n",
    "    \"\"\"\n",
    "    Compute the precision per class.\n",
    "        \n",
    "    Parameters\n",
    "    ----------\n",
    "    cm : Numpy array of shape (n_classes, n_classes)\n",
    "         Confusion matrix.\n",
    "         \n",
    "    Returns\n",
    "    -------\n",
    "    precisions : Numpy array of shape (n_classes,)\n",
    "                 Precision per class.\n",
    "    \"\"\"\n",
    "    # Your code here\n",
    "    col = np.apply_along_axis(lambda x: x/x.sum(), 0, cm).diagonal()\n",
    "    return col\n",
    "ppc = precision_per_class(cm)\n",
    "ppc"
   ]
  },
  {
   "cell_type": "code",
   "execution_count": 170,
   "id": "95325772",
   "metadata": {},
   "outputs": [
    {
     "data": {
      "text/plain": "array([0.96326531, 0.97973568, 0.89244186, 0.85346535, 0.92668024,\n       0.86098655, 0.90292276, 0.9036965 , 0.7926078 , 0.83647175])"
     },
     "execution_count": 170,
     "metadata": {},
     "output_type": "execute_result"
    }
   ],
   "source": [
    "def recall_per_class(cm):\n",
    "    \"\"\"\n",
    "    Compute the recall per class.\n",
    "        \n",
    "    Parameters\n",
    "    ----------\n",
    "    cm : Numpy array of shape (n_classes, n_classes)\n",
    "         Confusion matrix.\n",
    "         \n",
    "    Returns\n",
    "    -------\n",
    "    recalls : Numpy array of shape (n_classes,)\n",
    "              Recall per class.\n",
    "    \"\"\"\n",
    "    # Your code here\n",
    "    line = np.apply_along_axis(lambda x: x/x.sum(), 1, cm).diagonal()\n",
    "    return line\n",
    "rpc = recall_per_class(cm)\n",
    "rpc"
   ]
  },
  {
   "cell_type": "code",
   "execution_count": 171,
   "id": "a0fb19e3",
   "metadata": {},
   "outputs": [
    {
     "name": "stdout",
     "output_type": "stream",
     "text": [
      "The best class in terms of precision is : 1\n",
      "The worst class in terms of precision is : 5\n"
     ]
    }
   ],
   "source": [
    "# Your code here: find and print the worst and best classes in terms of precision\n",
    "print(f\"The best class in terms of precision is : {ppc.argmax()}\")\n",
    "print(f\"The worst class in terms of precision is : {ppc.argmin()}\")"
   ]
  },
  {
   "cell_type": "code",
   "execution_count": 172,
   "id": "42c3edd8",
   "metadata": {},
   "outputs": [
    {
     "name": "stdout",
     "output_type": "stream",
     "text": [
      "The best class in terms of recall is : 1\n",
      "The worst class in terms of recall is : 8\n"
     ]
    }
   ],
   "source": [
    "# Your code here: find and print the worst and best classes in terms of recall\n",
    "print(f\"The best class in terms of recall is : {rpc.argmax()}\")\n",
    "print(f\"The worst class in terms of recall is : {rpc.argmin()}\")"
   ]
  },
  {
   "cell_type": "markdown",
   "id": "7ac6fe5d",
   "metadata": {},
   "source": [
    "e) In file `ex1-system-b.csv` you find the output of a second system B. What is the best system between (a) and (b) in terms of error rate and F1."
   ]
  },
  {
   "cell_type": "code",
   "execution_count": 173,
   "id": "b98c2545",
   "metadata": {},
   "outputs": [],
   "source": [
    "# Your code here: load the data of the system B\n",
    "path = \"ex2-system-b.csv\"\n",
    "dataset_b = pd.read_csv(path, sep=\";\", index_col=False, names=[\"0\", \"1\", \"2\", \"3\", \"4\", \"5\", \"6\", \"7\", \"8\", \"9\", \"y_true\"])"
   ]
  },
  {
   "cell_type": "code",
   "execution_count": 174,
   "id": "050091b9",
   "metadata": {},
   "outputs": [],
   "source": [
    "def system_accuracy(cm):\n",
    "    \"\"\"\n",
    "    Compute the system accuracy.\n",
    "        \n",
    "    Parameters\n",
    "    ----------\n",
    "    cm : Numpy array of shape (n_classes, n_classes)\n",
    "         Confusion matrix.\n",
    "         \n",
    "    Returns\n",
    "    -------\n",
    "    accuracy : Float\n",
    "               Accuracy of the system.\n",
    "    \"\"\"\n",
    "    return cm.diagonal().sum() / cm.sum()"
   ]
  },
  {
   "cell_type": "code",
   "execution_count": 175,
   "id": "adc0f138",
   "metadata": {},
   "outputs": [],
   "source": [
    "def system_f1_score(cm):\n",
    "    \"\"\"\n",
    "    Compute the system F1 score.\n",
    "        \n",
    "    Parameters\n",
    "    ----------\n",
    "    cm : Numpy array of shape (n_classes, n_classes)\n",
    "         Confusion matrix.\n",
    "         \n",
    "    Returns\n",
    "    -------\n",
    "    f1_score : Float\n",
    "               F1 score of the system.\n",
    "    \"\"\"\n",
    "    # Your code here\n",
    "    precision = precision_per_class(cm)\n",
    "    recall = recall_per_class(cm)\n",
    "    return np.mean(2*(precision*recall/(precision+recall)))"
   ]
  },
  {
   "cell_type": "code",
   "execution_count": 176,
   "id": "f1385c87",
   "metadata": {},
   "outputs": [
    {
     "name": "stdout",
     "output_type": "stream",
     "text": [
      "Accuracy : 0.8927\n",
      "F1-Score : 0.8907308492877297\n"
     ]
    }
   ],
   "source": [
    "# Your code here: compute and print the accuracy and the F1 score of the system A\n",
    "y_pred = bayes_classification(dataset_a)\n",
    "cm = confusion_matrix(dataset_a[\"y_true\"].to_numpy(), y_pred, 10)\n",
    "print(f\"Accuracy : {system_accuracy(cm)}\")\n",
    "print(f\"F1-Score : {system_f1_score(cm)}\")"
   ]
  },
  {
   "cell_type": "code",
   "execution_count": 177,
   "id": "50c64d08",
   "metadata": {},
   "outputs": [
    {
     "name": "stdout",
     "output_type": "stream",
     "text": [
      "Accuracy : 0.9613\n",
      "F1-Score : 0.9608568150389065\n"
     ]
    }
   ],
   "source": [
    "# Your code here: compute and print the accuracy and the F1 score of the system B\n",
    "y_pred = bayes_classification(dataset_b)\n",
    "cm = confusion_matrix(dataset_b[\"y_true\"].to_numpy(), y_pred, 10)\n",
    "print(f\"Accuracy : {system_accuracy(cm)}\")\n",
    "print(f\"F1-Score : {system_f1_score(cm)}\")"
   ]
  }
 ],
 "metadata": {
  "kernelspec": {
   "display_name": "Python 3 (ipykernel)",
   "language": "python",
   "name": "python3"
  },
  "language_info": {
   "codemirror_mode": {
    "name": "ipython",
    "version": 3
   },
   "file_extension": ".py",
   "mimetype": "text/x-python",
   "name": "python",
   "nbconvert_exporter": "python",
   "pygments_lexer": "ipython3",
   "version": "3.7.11"
  }
 },
 "nbformat": 4,
 "nbformat_minor": 5
}