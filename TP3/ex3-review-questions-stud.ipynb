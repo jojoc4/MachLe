{
 "cells": [
  {
   "cell_type": "markdown",
   "id": "85146b8a",
   "metadata": {},
   "source": [
    "Jonatan Baumgartner\n",
    "Massimo De Santis\n",
    "Florian Feuillade"
   ]
  },
  {
   "cell_type": "markdown",
   "id": "ad0d40d6",
   "metadata": {},
   "source": [
    "# Exercice 3 - Review questions"
   ]
  },
  {
   "cell_type": "markdown",
   "id": "3e556a9d",
   "metadata": {},
   "source": [
    "**a) Assuming an univariate input *x*, what is the complexity at inference time of a Bayesian classifier based on histogram computation of the likelihood ?**"
   ]
  },
  {
   "cell_type": "markdown",
   "id": "8d2fb7ef",
   "metadata": {},
   "source": [
    "O(c) c = nombre de classes"
   ]
  },
  {
   "cell_type": "markdown",
   "id": "99632770",
   "metadata": {},
   "source": [
    "**b) Bayesian models are said to be generative as they can be used to generate new samples. Taking the implementation of the exercise 1.a, explain the steps to generate new samples using the system you have put into place.**\n",
    " "
   ]
  },
  {
   "cell_type": "markdown",
   "id": "88ab64b2",
   "metadata": {},
   "source": [
    "Pour chaque nouvel échantillon :\n",
    "On choisit un label aléatoire pondéré par le prior P(c)\n",
    "On génère une valeur aléatoire pour x1 et x2 en pondérant la probabilité d'apparition de la valeur, sur la valeur des \"bin\" de leur distribution en respectant la plausibilité (likelihood) P( x | c )"
   ]
  },
  {
   "cell_type": "markdown",
   "id": "e2f611fe",
   "metadata": {},
   "source": [
    "***Optional*: Provide an implementation in a function generateSample(priors, histValues, edgeValues, n)**"
   ]
  },
  {
   "cell_type": "code",
   "execution_count": 1,
   "id": "14aba0f7",
   "metadata": {},
   "outputs": [],
   "source": [
    "pass"
   ]
  },
  {
   "cell_type": "markdown",
   "id": "ed8c4f6b",
   "metadata": {},
   "source": [
    "**c) What is the minimum overall accuracy of a 2-class system relying only on priors and that is built on a training set that includes 5 times more samples in class A than in class B?**"
   ]
  },
  {
   "cell_type": "markdown",
   "id": "4bb03365",
   "metadata": {},
   "source": [
    "0.83 même en répondant toujours A, on obtient une accuracy de 5/6"
   ]
  },
  {
   "cell_type": "markdown",
   "id": "58450ff6",
   "metadata": {},
   "source": [
    "**d) Let’s look back at the PW02 exercise 3 of last week. We have built a knn classification systems for images of digits on the MNIST database.**\n",
    "\n",
    "**How would you build a Bayesian classification for the same task ? Comment on the prior probabilities and on the likelihood estimators. More specifically, what kind of likelihood estimator could we use in this case ?**"
   ]
  },
  {
   "cell_type": "markdown",
   "id": "d2bf1500",
   "metadata": {},
   "source": [
    "Le dataset MNIST étant équilibré, les prior probabilities seront de 1/10 pour chaque classe. On utilise un likelihood histogram, chaque pixel étant une feature avec une valeur discrète."
   ]
  },
  {
   "cell_type": "markdown",
   "id": "a3ca9715",
   "metadata": {},
   "source": [
    "***Optional:* implement it and report performance !**"
   ]
  },
  {
   "cell_type": "code",
   "execution_count": 2,
   "id": "4de72736",
   "metadata": {},
   "outputs": [],
   "source": [
    "pass"
   ]
  },
  {
   "cell_type": "markdown",
   "id": "b812b46f",
   "metadata": {},
   "source": [
    "**e) Read [europe-border-control-ai-lie-detector](https://theintercept.com/2019/07/26/europe-border-control-ai-lie-detector/). The described system is \"a virtual policeman designed to strengthen European borders\". It can be seen as a 2-class problem, either you are a suspicious traveler or you are not. If you are declared as suspicious by the system, you are routed to a human border agent who analyses your case in a more careful way.**\n",
    "\n",
    "1. What kind of errors can the system make ? Explain them in your own words.\n",
    "2. Is one error more critical than the other ? Explain why.\n",
    "3. According to the previous points, which metric would you recommend to tune your MLsystem ?"
   ]
  },
  {
   "cell_type": "markdown",
   "id": "1adf1760",
   "metadata": {},
   "source": [
    "1. Le system peut être amené à faire des choix par rapport à l'appartenance etnique de la personne. Il peut également basé ses résultat sur les microexpression et l'attitude de la personne. ces observation sont pour le moment des pseudo-science et n'ont pas été validé.\n",
    "2. une personne maîtrisant parfaitement sa communication, par exemple une personne entraîner à celà, est capable de se maitriser parfaitement et de donner l'impression de dire la vérité. Il est dès lors possible d'obtenir un bon score et de bypasser les contrôles approfondis.\n",
    "3. se baser plus sur des fait réels et moins sur l'atitude de la personne. Il faudrait se baser sur des faits connus et pas sur les réponses de l'utilisateur. Ces réponses devraient être utilisés uniquement si le système connait déjà la bonne réponse."
   ]
  },
  {
   "cell_type": "code",
   "execution_count": null,
   "id": "0f105dcc",
   "metadata": {},
   "outputs": [],
   "source": []
  }
 ],
 "metadata": {
  "kernelspec": {
   "display_name": "Python 3 (ipykernel)",
   "language": "python",
   "name": "python3"
  },
  "language_info": {
   "codemirror_mode": {
    "name": "ipython",
    "version": 3
   },
   "file_extension": ".py",
   "mimetype": "text/x-python",
   "name": "python",
   "nbconvert_exporter": "python",
   "pygments_lexer": "ipython3",
   "version": "3.7.7"
  }
 },
 "nbformat": 4,
 "nbformat_minor": 5
}
