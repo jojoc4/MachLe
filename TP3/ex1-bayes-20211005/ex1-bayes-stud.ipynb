{
 "cells": [
  {
   "cell_type": "markdown",
   "metadata": {},
   "source": [
    "Jonatan Baumgartner\n",
    "Massimo De Santis\n",
    "Florian Feuillade"
   ]
  },
  {
   "cell_type": "markdown",
   "metadata": {
    "collapsed": true
   },
   "source": [
    "## Exercise 1 - Bayes classification system"
   ]
  },
  {
   "cell_type": "code",
   "execution_count": 1,
   "metadata": {},
   "outputs": [],
   "source": [
    "# Import some useful libraries\n",
    "\n",
    "import math\n",
    "\n",
    "import matplotlib.pyplot as plt\n",
    "import numpy as np\n",
    "import pandas as pd\n",
    "from sklearn.model_selection import train_test_split\n",
    "from sklearn.preprocessing import OrdinalEncoder, StandardScaler"
   ]
  },
  {
   "cell_type": "markdown",
   "metadata": {},
   "source": [
    "## 1a. Getting started with Bayes"
   ]
  },
  {
   "cell_type": "markdown",
   "metadata": {},
   "source": [
    "a) Read the training data from file ex1-data-train.csv. The first two columns are x1 and x2. The last column holds the class label y."
   ]
  },
  {
   "cell_type": "code",
   "execution_count": 2,
   "metadata": {
    "pycharm": {
     "is_executing": false
    }
   },
   "outputs": [],
   "source": [
    "def read_data(file):\n",
    "    dataset = pd.read_csv(file, names=['x1','x2','y'])\n",
    "    print(dataset.head())\n",
    "    return dataset[[\"x1\", \"x2\"]], dataset[\"y\"].values"
   ]
  },
  {
   "cell_type": "code",
   "execution_count": 3,
   "metadata": {},
   "outputs": [
    {
     "name": "stdout",
     "output_type": "stream",
     "text": [
      "          x1         x2  y\n",
      "0  34.623660  78.024693  0\n",
      "1  30.286711  43.894998  0\n",
      "2  35.847409  72.902198  0\n",
      "3  60.182599  86.308552  1\n",
      "4  79.032736  75.344376  1\n"
     ]
    }
   ],
   "source": [
    "X_train, y_train = read_data(\"ex1-data-train.csv\")"
   ]
  },
  {
   "cell_type": "code",
   "execution_count": 4,
   "metadata": {},
   "outputs": [],
   "source": [
    "# Prepare a function to compute accuracy\n",
    "def accuracy_score(y_true, y_pred):\n",
    "    return (y_true == y_pred).sum() / y_true.size"
   ]
  },
  {
   "cell_type": "markdown",
   "metadata": {},
   "source": [
    "b) Compute the priors of both classes P(C0) and P(C1)"
   ]
  },
  {
   "cell_type": "code",
   "execution_count": 5,
   "metadata": {
    "pycharm": {
     "is_executing": false
    }
   },
   "outputs": [
    {
     "name": "stdout",
     "output_type": "stream",
     "text": [
      "Probability of not admitted : 0.4\n",
      "Probability of admitted : 0.6\n"
     ]
    }
   ],
   "source": [
    "# TODO: Compute the priors\n",
    "\n",
    "not_admitted = np.array([label for label in y_train if label == 0])\n",
    "admitted = np.array([label for label in y_train if label == 1])\n",
    "\n",
    "PC0 = len(not_admitted) / len(y_train)\n",
    "PC1 = len(admitted) / len(y_train)\n",
    "print(\"Probability of not admitted :\", PC0)\n",
    "print(\"Probability of admitted :\", PC1)\n"
   ]
  },
  {
   "cell_type": "markdown",
   "metadata": {},
   "source": [
    "c) Compute histograms of x1 and x2 for each class (total of 4 histograms). Plot these histograms. Advice : use the numpy `histogram(a, bins=\"auto\")` function."
   ]
  },
  {
   "cell_type": "code",
   "execution_count": 6,
   "metadata": {
    "pycharm": {
     "is_executing": false
    }
   },
   "outputs": [
    {
     "data": {
      "text/plain": [
       "Text(0.5, 1.0, 'Histogram of x2 for admitted students')"
      ]
     },
     "execution_count": 6,
     "metadata": {},
     "output_type": "execute_result"
    },
    {
     "data": {
      "image/png": "[encoded data removed]",
      "text/plain": [
       "<Figure size 432x288 with 4 Axes>"
      ]
     },
     "metadata": {
      "needs_background": "light"
     },
     "output_type": "display_data"
    }
   ],
   "source": [
    "# TODO: Compute histograms\n",
    "\n",
    "x1_not = [x1 for x1,y in zip(X_train[\"x1\"],y_train) if y == 0]\n",
    "x2_not = [x2 for x2,y in zip(X_train[\"x2\"],y_train) if y == 0]\n",
    "x1_yes = [x1 for x1,y in zip(X_train[\"x1\"],y_train) if y == 1]\n",
    "x2_yes = [x2 for x2,y in zip(X_train[\"x2\"],y_train) if y == 1]\n",
    "\n",
    "\n",
    "# TODO: plot histograms\n",
    "\n",
    "plt.subplots_adjust(left=0.125, right=2, bottom=0.1, top=1.9, wspace=0.2, hspace=0.2)\n",
    "plt.subplot(2, 2, 1)\n",
    "hist_x1_C0, edge_x1_C0, _ = plt.hist(x1_not, range=[20, 110], bins='auto', color=\"firebrick\")\n",
    "plt.title(\"Histogram of x1 for not admitted students\")\n",
    "\n",
    "plt.subplot(2, 2, 2)\n",
    "hist_x2_C0, edge_x2_C0, _ = plt.hist(x2_not, range=[20, 110], bins='auto', color='firebrick')\n",
    "plt.title(\"Histogram of x2 for not admitted students\")\n",
    "\n",
    "plt.subplot(2, 2, 3)\n",
    "hist_x1_C1, edge_x1_C1, _ = plt.hist(x1_yes, range=[20, 110], bins='auto',  color='forestgreen')\n",
    "plt.title(\"Histogram of x1 for admitted students\")\n",
    "\n",
    "plt.subplot(2, 2, 4)\n",
    "hist_x2_C1, edge_x2_C1, _ = plt.hist(x2_yes, range=[20, 110], bins='auto', color='forestgreen')\n",
    "plt.title(\"Histogram of x2 for admitted students\")\n",
    "\n",
    "\n",
    "#plt.figure(figsize=(16,6))\n",
    "\n",
    "#plt.subplot(1, 2, 1)\n",
    "#...\n",
    "#plt.xlabel('Likelihood hist - Exam 1')\n",
    "\n",
    "#plt.subplot(1, 2, 2)\n",
    "#...\n",
    "#plt.xlabel('Likelihood hist - Exam 2')\n",
    "\n",
    "#plt.show()"
   ]
  },
  {
   "cell_type": "markdown",
   "metadata": {},
   "source": [
    "d) Use the histograms to compute the likelihoods p(x1|C0), p(x1|C1), p(x2|C0) and p(x2|C1). For this define a function `likelihood_hist(x, hist_values, edge_values)` that returns the likelihood of x for a given histogram (defined by its values and bin edges as returned by the numpy `histogram()` function)."
   ]
  },
  {
   "cell_type": "code",
   "execution_count": 7,
   "metadata": {
    "pycharm": {
     "is_executing": false
    }
   },
   "outputs": [],
   "source": [
    "def likelihood_hist(x: float, hist_values: np.ndarray, bin_edges: np.ndarray) -> float:\n",
    "    last_edge = bin_edges[0]\n",
    "    for number, edge in zip(hist_values, bin_edges[1:]):\n",
    "        if x > last_edge and x <= edge:\n",
    "            return number / sum(hist_values)\n",
    "        last_edge = edge\n",
    "\n",
    "def p_x1_C0(x):\n",
    "    return likelihood_hist(x, hist_x1_C0, edge_x1_C0)\n",
    "\n",
    "def p_x2_C0(x):\n",
    "    return likelihood_hist(x, hist_x2_C0, edge_x2_C0)\n",
    "\n",
    "def p_x1_C1(x):\n",
    "    return likelihood_hist(x, hist_x1_C1, edge_x1_C1)\n",
    "\n",
    "def p_x2_C1(x):\n",
    "    return likelihood_hist(x, hist_x2_C1, edge_x2_C1)"
   ]
  },
  {
   "cell_type": "markdown",
   "metadata": {},
   "source": [
    "e) Implement the classification decision according to Bayes rule and compute the overall accuracy of the system on the test set ex1-data-test.csv. :\n",
    "- using only feature x1\n",
    "- using only feature x2\n",
    "- using x1 and x2 making the naive Bayes hypothesis of feature independence, i.e. p(X|Ck) = p(x1|Ck) · p(x2|Ck)"
   ]
  },
  {
   "cell_type": "code",
   "execution_count": 8,
   "metadata": {
    "pycharm": {
     "is_executing": false
    }
   },
   "outputs": [
    {
     "name": "stdout",
     "output_type": "stream",
     "text": [
      "          x1         x2  y\n",
      "0  39.196334  78.530294  0\n",
      "1  40.448499  86.839470  1\n",
      "2  65.571920  44.303497  0\n",
      "3  79.648113  70.806564  1\n",
      "4  66.260221  41.672703  0\n",
      "Bayes with feature x1 :\n",
      "Performance : 0.62\n",
      "Bayes with feature x2 :\n",
      "Performance : 0.74\n",
      "Bayes with feature x1 and x2 :\n",
      "Performance : 0.89\n"
     ]
    }
   ],
   "source": [
    "X_test, y_test = read_data(\"ex1-data-test.csv\")\n",
    "\n",
    "def bayes_classifier_x1(x1, x2, PC0=PC0, PC1=PC1):\n",
    "    \"\"\"Bayes with feature x1\"\"\"\n",
    "    return 0 if p_x1_C0(x1) * PC0 > p_x1_C1(x1) * PC1 else 1\n",
    "\n",
    "def bayes_classifier_x2(x1, x2, PC0=PC0, PC1=PC1):\n",
    "    \"\"\"Bayes with feature x2\"\"\"\n",
    "    return 0 if p_x2_C0(x2) * PC0 > p_x2_C1(x2) * PC1 else 1\n",
    "\n",
    "def bayes_classifier_x1_x2(x1, x2, PC0=PC0, PC1=PC1):\n",
    "    \"\"\"Bayes with feature x1 and x2\"\"\"\n",
    "    return 0 if (p_x1_C0(x1) * PC0 * p_x2_C0(x2) * PC0) > (p_x1_C1(x1) * PC1 * p_x2_C1(x2) * PC1) else 1\n",
    "\n",
    "def predict(X_test, classifier_function):\n",
    "    predicted = []\n",
    "    for x1,x2 in zip(X_test[\"x1\"],X_test[\"x2\"]):\n",
    "        predicted.append(classifier_function(x1, x2))\n",
    "    return np.array(predicted)\n",
    "\n",
    "def control(classifier_function):\n",
    "    nb_correct = 0\n",
    "    for x1, x2, correct in zip(X_test[\"x1\"],X_test[\"x2\"],y_test):\n",
    "        guess = classifier_function(x1, x2)\n",
    "        nb_correct += 1 if guess == correct else 0\n",
    "    print(f\"Performance : {nb_correct / len(X_test)}\")\n",
    "\n",
    "classifiers = [bayes_classifier_x1, bayes_classifier_x2, bayes_classifier_x1_x2]\n",
    "for classifier in classifiers:\n",
    "    print(classifier.__doc__, \":\")\n",
    "    control(classifier)"
   ]
  },
  {
   "cell_type": "code",
   "execution_count": 9,
   "metadata": {
    "pycharm": {
     "is_executing": false
    }
   },
   "outputs": [
    {
     "name": "stdout",
     "output_type": "stream",
     "text": [
      "accuracy with x1 :\n",
      "0.62\n",
      "accuracy with x2 :\n",
      "0.74\n",
      "accuracy with x1 and x2 :\n",
      "0.89\n"
     ]
    }
   ],
   "source": [
    "# TODO: predict on test set in the 3 cases described above\n",
    "\n",
    "predicted_v1 = predict(X_test,bayes_classifier_x1)\n",
    "\n",
    "predicted_v2 = predict(X_test,bayes_classifier_x2)\n",
    "\n",
    "predicted_v3 = predict(X_test,bayes_classifier_x1_x2)\n",
    "\n",
    "\n",
    "print(f\"accuracy with x1 :\\n{accuracy_score(y_test, predicted_v1)}\")\n",
    "print(f\"accuracy with x2 :\\n{accuracy_score(y_test, predicted_v2)}\")\n",
    "print(f\"accuracy with x1 and x2 :\\n{accuracy_score(y_test, predicted_v3)}\")"
   ]
  },
  {
   "cell_type": "markdown",
   "metadata": {},
   "source": [
    "Which system is the best ?"
   ]
  },
  {
   "cell_type": "markdown",
   "metadata": {},
   "source": [
    "- With All features, x1 and x2"
   ]
  },
  {
   "cell_type": "markdown",
   "metadata": {},
   "source": [
    "## 1b. Bayes - Univariate Gaussian distribution"
   ]
  },
  {
   "cell_type": "markdown",
   "metadata": {},
   "source": [
    "Do the same as in a) but this time using univariate Gaussian distribution to model the likelihoods p(x1|C0), p(x1|C1), p(x2|C0) and p(x2|C1). You may use the numpy functions `mean()` and `var()` to compute the mean μ and variance σ2 of the distribution. To model the likelihood of both features, you may also do the naive Bayes hypothesis of feature independence, i.e. p(X|Ck) = p(x1|Ck) · p(x2|Ck).\n"
   ]
  },
  {
   "cell_type": "code",
   "execution_count": 10,
   "metadata": {
    "pycharm": {
     "is_executing": false
    }
   },
   "outputs": [],
   "source": [
    "def likelihood_univariate_gaussian(x: float, mean: float, var: float) -> float:\n",
    "    div = (2 * np.pi * var)**0.5\n",
    "    exp = -1/(2*var) * (x - mean) ** 2\n",
    "    return (1/div)*np.exp(exp)\n"
   ]
  },
  {
   "cell_type": "code",
   "execution_count": 11,
   "metadata": {
    "pycharm": {
     "is_executing": false
    }
   },
   "outputs": [],
   "source": [
    "# TODO: Compute mean and variance for each classes and each features (8 values)\n",
    "\n",
    "mean_x1_C0 = np.mean(x1_not)\n",
    "var_x1_C0  = np.var(x1_not)\n",
    "\n",
    "mean_x1_C1 = np.mean(x1_yes)\n",
    "var_x1_C1  = np.var(x1_yes)\n",
    "\n",
    "mean_x2_C0 = np.mean(x2_not)\n",
    "var_x2_C0  = np.var(x2_not)\n",
    "\n",
    "mean_x2_C1 = np.mean(x2_yes)\n",
    "var_x2_C1  = np.var(x2_yes)\n",
    "\n",
    "\n",
    "def p_x1_C0(x):\n",
    "    return likelihood_univariate_gaussian(x, mean_x1_C0, var_x1_C0)\n",
    "\n",
    "def p_x2_C0(x):\n",
    "    return likelihood_univariate_gaussian(x, mean_x2_C0, var_x2_C0)\n",
    "\n",
    "def p_x1_C1(x):\n",
    "    return likelihood_univariate_gaussian(x, mean_x1_C1, var_x1_C1)\n",
    "\n",
    "def p_x2_C1(x):\n",
    "    return likelihood_univariate_gaussian(x, mean_x2_C1, var_x2_C1)"
   ]
  },
  {
   "cell_type": "code",
   "execution_count": 12,
   "metadata": {},
   "outputs": [],
   "source": [
    "def g_bayes_classifier_x1(x1, x2, PC0=PC0, PC1=PC1):\n",
    "    \"\"\"Bayes with feature x1\"\"\"\n",
    "    return 0 if p_x1_C0(x1) * PC0 > p_x1_C1(x1) * PC1 else 1\n",
    "\n",
    "def g_bayes_classifier_x2(x1, x2, PC0=PC0, PC1=PC1):\n",
    "    \"\"\"Bayes with feature x2\"\"\"\n",
    "    return 0 if p_x2_C0(x2) * PC0 > p_x2_C1(x2) * PC1 else 1\n",
    "\n",
    "def g_bayes_classifier_x1_x2(x1, x2, PC0=PC0, PC1=PC1):\n",
    "    \"\"\"Bayes with feature x1 and x2\"\"\"\n",
    "    return 0 if (p_x1_C0(x1) * PC0 * p_x2_C0(x2) * PC0) > (p_x1_C1(x1) * PC1 * p_x2_C1(x2) * PC1) else 1"
   ]
  },
  {
   "cell_type": "code",
   "execution_count": 13,
   "metadata": {},
   "outputs": [
    {
     "name": "stdout",
     "output_type": "stream",
     "text": [
      "accuracy with x1 :\n",
      "0.71\n",
      "accuracy with x2 :\n",
      "0.72\n",
      "accuracy with x1 and x2 :\n",
      "0.92\n"
     ]
    }
   ],
   "source": [
    "# TODO: predict on test set in the 3 cases\n",
    "\n",
    "predicted_v1 = predict(X_test,g_bayes_classifier_x1)\n",
    "\n",
    "predicted_v2 = predict(X_test,g_bayes_classifier_x2)\n",
    "\n",
    "predicted_v3 = predict(X_test,g_bayes_classifier_x1_x2)\n",
    "\n",
    "\n",
    "print(f\"accuracy with x1 :\\n{accuracy_score(y_test, predicted_v1)}\")\n",
    "print(f\"accuracy with x2 :\\n{accuracy_score(y_test, predicted_v2)}\")\n",
    "print(f\"accuracy with x1 and x2 :\\n{accuracy_score(y_test, predicted_v3)}\")"
   ]
  },
  {
   "cell_type": "code",
   "execution_count": null,
   "metadata": {},
   "outputs": [],
   "source": []
  }
 ],
 "metadata": {
  "interpreter": {
   "hash": "5486ee6794f552b85e6a783c5dd349909cb0c6d74537eceaf7e59c953bfbe598"
  },
  "kernelspec": {
   "display_name": "Python 3 (ipykernel)",
   "language": "python",
   "name": "python3"
  },
  "language_info": {
   "codemirror_mode": {
    "name": "ipython",
    "version": 3
   },
   "file_extension": ".py",
   "mimetype": "text/x-python",
   "name": "python",
   "nbconvert_exporter": "python",
   "pygments_lexer": "ipython3",
   "version": "3.7.7"
  },
  "pycharm": {
   "stem_cell": {
    "cell_type": "raw",
    "metadata": {
     "collapsed": false
    },
    "source": []
   }
  }
 },
 "nbformat": 4,
 "nbformat_minor": 1
}
