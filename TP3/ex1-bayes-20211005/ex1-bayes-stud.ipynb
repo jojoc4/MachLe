{
 "cells": [
  {
   "cell_type": "markdown",
   "source": [
    "## Exercise 1 - Bayes classification system"
   ],
   "metadata": {
    "collapsed": true
   }
  },
  {
   "cell_type": "code",
   "execution_count": 2,
   "source": [
    "# Import some useful libraries\r\n",
    "\r\n",
    "import math\r\n",
    "\r\n",
    "import matplotlib.pyplot as plt\r\n",
    "import numpy as np\r\n",
    "import pandas as pd\r\n",
    "from sklearn.model_selection import train_test_split\r\n",
    "from sklearn.preprocessing import OrdinalEncoder, StandardScaler"
   ],
   "outputs": [],
   "metadata": {}
  },
  {
   "cell_type": "markdown",
   "source": [
    "## 1a. Getting started with Bayes"
   ],
   "metadata": {}
  },
  {
   "cell_type": "markdown",
   "source": [
    "a) Read the training data from file ex1-data-train.csv. The first two columns are x1 and x2. The last column holds the class label y."
   ],
   "metadata": {}
  },
  {
   "cell_type": "code",
   "execution_count": 3,
   "source": [
    "def read_data(file):\r\n",
    "    dataset = pd.read_csv(file, names=['x1','x2','y'])\r\n",
    "    print(dataset.head())\r\n",
    "    return dataset[[\"x1\", \"x2\"]], dataset[\"y\"].values"
   ],
   "outputs": [],
   "metadata": {
    "pycharm": {
     "is_executing": false
    }
   }
  },
  {
   "cell_type": "code",
   "execution_count": 4,
   "source": [
    "X_train, y_train = read_data(\"ex1-data-train.csv\")"
   ],
   "outputs": [
    {
     "output_type": "stream",
     "name": "stdout",
     "text": [
      "          x1         x2  y\n",
      "0  34.623660  78.024693  0\n",
      "1  30.286711  43.894998  0\n",
      "2  35.847409  72.902198  0\n",
      "3  60.182599  86.308552  1\n",
      "4  79.032736  75.344376  1\n"
     ]
    }
   ],
   "metadata": {}
  },
  {
   "cell_type": "code",
   "execution_count": 5,
   "source": [
    "# Prepare a function to compute accuracy\r\n",
    "def accuracy_score(y_true, y_pred):\r\n",
    "    return (y_true == y_pred).sum() / y_true.size"
   ],
   "outputs": [],
   "metadata": {}
  },
  {
   "cell_type": "markdown",
   "source": [
    "b) Compute the priors of both classes P(C0) and P(C1)"
   ],
   "metadata": {}
  },
  {
   "cell_type": "code",
   "execution_count": 6,
   "source": [
    "# TODO: Compute the priors\r\n",
    "\r\n",
    "not_admitted = np.array([label for label in y_train if label == 0])\r\n",
    "admitted = np.array([label for label in y_train if label == 1])\r\n",
    "\r\n",
    "PC0 = len(not_admitted) / len(y_train)\r\n",
    "PC1 = len(admitted) / len(y_train)\r\n",
    "print(\"Probability of not admitted :\", PC0)\r\n",
    "print(\"Probability of admitted :\", PC1)\r\n"
   ],
   "outputs": [
    {
     "output_type": "stream",
     "name": "stdout",
     "text": [
      "Probability of not admitted : 0.4\n",
      "Probability of admitted : 0.6\n"
     ]
    }
   ],
   "metadata": {
    "pycharm": {
     "is_executing": false
    }
   }
  },
  {
   "cell_type": "markdown",
   "source": [
    "c) Compute histograms of x1 and x2 for each class (total of 4 histograms). Plot these histograms. Advice : use the numpy `histogram(a, bins=\"auto\")` function."
   ],
   "metadata": {}
  },
  {
   "cell_type": "code",
   "execution_count": 7,
   "source": [
    "# TODO: Compute histograms\r\n",
    "\r\n",
    "x1_not = [x1 for x1,y in zip(X_train[\"x1\"],y_train) if y == 0]\r\n",
    "x2_not = [x2 for x2,y in zip(X_train[\"x2\"],y_train) if y == 0]\r\n",
    "x1_yes = [x1 for x1,y in zip(X_train[\"x1\"],y_train) if y == 1]\r\n",
    "x2_yes = [x2 for x2,y in zip(X_train[\"x2\"],y_train) if y == 1]\r\n",
    "\r\n",
    "\r\n",
    "# TODO: plot histograms\r\n",
    "\r\n",
    "plt.subplots_adjust(left=0.125, right=2, bottom=0.1, top=1.9, wspace=0.2, hspace=0.2)\r\n",
    "plt.subplot(2, 2, 1)\r\n",
    "hist_x1_C0, edge_x1_C0, _ = plt.hist(x1_not, range=[20, 110], bins='auto', color=\"firebrick\")\r\n",
    "plt.title(\"Histogram of x1 for not admitted students\")\r\n",
    "\r\n",
    "plt.subplot(2, 2, 2)\r\n",
    "hist_x2_C0, edge_x2_C0, _ = plt.hist(x2_not, range=[20, 110], bins='auto', color='firebrick')\r\n",
    "plt.title(\"Histogram of x2 for not admitted students\")\r\n",
    "\r\n",
    "plt.subplot(2, 2, 3)\r\n",
    "hist_x1_C1, edge_x1_C1, _ = plt.hist(x1_yes, range=[20, 110], bins='auto',  color='forestgreen')\r\n",
    "plt.title(\"Histogram of x1 for admitted students\")\r\n",
    "\r\n",
    "plt.subplot(2, 2, 4)\r\n",
    "hist_x2_C1, edge_x2_C1, _ = plt.hist(x2_yes, range=[20, 110], bins='auto', color='forestgreen')\r\n",
    "plt.title(\"Histogram of x2 for admitted students\")\r\n",
    "\r\n",
    "\r\n",
    "#plt.figure(figsize=(16,6))\r\n",
    "\r\n",
    "#plt.subplot(1, 2, 1)\r\n",
    "#...\r\n",
    "#plt.xlabel('Likelihood hist - Exam 1')\r\n",
    "\r\n",
    "#plt.subplot(1, 2, 2)\r\n",
    "#...\r\n",
    "#plt.xlabel('Likelihood hist - Exam 2')\r\n",
    "\r\n",
    "#plt.show()"
   ],
   "outputs": [
    {
     "output_type": "execute_result",
     "data": {
      "text/plain": [
       "Text(0.5, 1.0, 'Histogram of x2 for admitted students')"
      ]
     },
     "metadata": {},
     "execution_count": 7
    },
    {
     "output_type": "display_data",
     "data": {
      "image/png": "[encoded data removed]",
      "text/plain": [
       "<Figure size 432x288 with 4 Axes>"
      ]
     },
     "metadata": {
      "needs_background": "light"
     }
    }
   ],
   "metadata": {
    "pycharm": {
     "is_executing": false
    }
   }
  },
  {
   "cell_type": "markdown",
   "source": [
    "d) Use the histograms to compute the likelihoods p(x1|C0), p(x1|C1), p(x2|C0) and p(x2|C1). For this define a function `likelihood_hist(x, hist_values, edge_values)` that returns the likelihood of x for a given histogram (defined by its values and bin edges as returned by the numpy `histogram()` function)."
   ],
   "metadata": {}
  },
  {
   "cell_type": "code",
   "execution_count": 8,
   "source": [
    "def likelihood_hist(x: float, hist_values: np.ndarray, bin_edges: np.ndarray) -> float:\r\n",
    "    last_edge = bin_edges[0]\r\n",
    "    for number, edge in zip(hist_values, bin_edges[1:]):\r\n",
    "        if x > last_edge and x <= edge:\r\n",
    "            return number / sum(hist_values)\r\n",
    "        last_edge = edge\r\n",
    "\r\n",
    "def p_x1_C0(x):\r\n",
    "    return likelihood_hist(x, hist_x1_C0, edge_x1_C0)\r\n",
    "\r\n",
    "def p_x2_C0(x):\r\n",
    "    return likelihood_hist(x, hist_x2_C0, edge_x2_C0)\r\n",
    "\r\n",
    "def p_x1_C1(x):\r\n",
    "    return likelihood_hist(x, hist_x1_C1, edge_x1_C1)\r\n",
    "\r\n",
    "def p_x2_C1(x):\r\n",
    "    return likelihood_hist(x, hist_x2_C1, edge_x2_C1)"
   ],
   "outputs": [],
   "metadata": {
    "pycharm": {
     "is_executing": false
    }
   }
  },
  {
   "cell_type": "markdown",
   "source": [
    "e) Implement the classification decision according to Bayes rule and compute the overall accuracy of the system on the test set ex1-data-test.csv. :\n",
    "- using only feature x1\n",
    "- using only feature x2\n",
    "- using x1 and x2 making the naive Bayes hypothesis of feature independence, i.e. p(X|Ck) = p(x1|Ck) · p(x2|Ck)"
   ],
   "metadata": {}
  },
  {
   "cell_type": "code",
   "execution_count": 9,
   "source": [
    "X_test, y_test = read_data(\"ex1-data-test.csv\")\r\n",
    "\r\n",
    "def bayes_classifier_x1(x1, x2, PC0=PC0, PC1=PC1):\r\n",
    "    \"\"\"Bayes with feature x1\"\"\"\r\n",
    "    return 0 if p_x1_C0(x1) * PC0 > p_x1_C1(x1) * PC1 else 1\r\n",
    "\r\n",
    "def bayes_classifier_x2(x1, x2, PC0=PC0, PC1=PC1):\r\n",
    "    \"\"\"Bayes with feature x2\"\"\"\r\n",
    "    return 0 if p_x2_C0(x2) * PC0 > p_x2_C1(x2) * PC1 else 1\r\n",
    "\r\n",
    "def bayes_classifier_x1_x2(x1, x2, PC0=PC0, PC1=PC1):\r\n",
    "    \"\"\"Bayes with feature x1 and x2\"\"\"\r\n",
    "    return 0 if (p_x1_C0(x1) * PC0 * p_x2_C0(x2) * PC0) > (p_x1_C1(x1) * PC1 * p_x2_C1(x2) * PC1) else 1\r\n",
    "\r\n",
    "def predict(X_test, classifier_function):\r\n",
    "    predicted = []\r\n",
    "    for x1,x2 in zip(X_test[\"x1\"],X_test[\"x2\"]):\r\n",
    "        predicted.append(classifier_function(x1, x2))\r\n",
    "    return np.array(predicted)\r\n",
    "\r\n",
    "def control(classifier_function):\r\n",
    "    nb_correct = 0\r\n",
    "    for x1, x2, correct in zip(X_test[\"x1\"],X_test[\"x2\"],y_test):\r\n",
    "        guess = classifier_function(x1, x2)\r\n",
    "        nb_correct += 1 if guess == correct else 0\r\n",
    "    print(f\"Performance : {nb_correct / len(X_test)}\")\r\n",
    "\r\n",
    "classifiers = [bayes_classifier_x1, bayes_classifier_x2, bayes_classifier_x1_x2]\r\n",
    "for classifier in classifiers:\r\n",
    "    print(classifier.__doc__, \":\")\r\n",
    "    control(classifier)"
   ],
   "outputs": [
    {
     "output_type": "stream",
     "name": "stdout",
     "text": [
      "          x1         x2  y\n",
      "0  39.196334  78.530294  0\n",
      "1  40.448499  86.839470  1\n",
      "2  65.571920  44.303497  0\n",
      "3  79.648113  70.806564  1\n",
      "4  66.260221  41.672703  0\n",
      "Bayes with feature x1 :\n",
      "Performance : 0.62\n",
      "Bayes with feature x2 :\n",
      "Performance : 0.74\n",
      "Bayes with feature x1 and x2 :\n",
      "Performance : 0.89\n"
     ]
    }
   ],
   "metadata": {
    "pycharm": {
     "is_executing": false
    }
   }
  },
  {
   "cell_type": "code",
   "execution_count": 10,
   "source": [
    "# TODO: predict on test set in the 3 cases described above\r\n",
    "\r\n",
    "predicted_v1 = predict(X_test,bayes_classifier_x1)\r\n",
    "\r\n",
    "predicted_v2 = predict(X_test,bayes_classifier_x2)\r\n",
    "\r\n",
    "predicted_v3 = predict(X_test,bayes_classifier_x1_x2)\r\n",
    "\r\n",
    "\r\n",
    "print(f\"accuracy with x1 :\\n{accuracy_score(y_test, predicted_v1)}\")\r\n",
    "print(f\"accuracy with x2 :\\n{accuracy_score(y_test, predicted_v2)}\")\r\n",
    "print(f\"accuracy with x1 and x2 :\\n{accuracy_score(y_test, predicted_v3)}\")"
   ],
   "outputs": [
    {
     "output_type": "stream",
     "name": "stdout",
     "text": [
      "accuracy with x1 :\n",
      "0.62\n",
      "accuracy with x2 :\n",
      "0.74\n",
      "accuracy with x1 and x2 :\n",
      "0.89\n"
     ]
    }
   ],
   "metadata": {
    "pycharm": {
     "is_executing": false
    }
   }
  },
  {
   "cell_type": "markdown",
   "source": [
    "Which system is the best ?"
   ],
   "metadata": {}
  },
  {
   "cell_type": "markdown",
   "source": [
    "- With All features, x1 and x2"
   ],
   "metadata": {}
  },
  {
   "cell_type": "markdown",
   "source": [
    "## 1b. Bayes - Univariate Gaussian distribution"
   ],
   "metadata": {}
  },
  {
   "cell_type": "markdown",
   "source": [
    "Do the same as in a) but this time using univariate Gaussian distribution to model the likelihoods p(x1|C0), p(x1|C1), p(x2|C0) and p(x2|C1). You may use the numpy functions `mean()` and `var()` to compute the mean μ and variance σ2 of the distribution. To model the likelihood of both features, you may also do the naive Bayes hypothesis of feature independence, i.e. p(X|Ck) = p(x1|Ck) · p(x2|Ck).\n"
   ],
   "metadata": {}
  },
  {
   "cell_type": "code",
   "execution_count": 11,
   "source": [
    "def likelihood_univariate_gaussian(x: float, mean: float, var: float) -> float:\r\n",
    "    div = (2 * np.pi * var)**0.5\r\n",
    "    exp = -1/(2*var) * (x - mean) ** 2\r\n",
    "    return (1/div)*np.exp(exp)\r\n"
   ],
   "outputs": [],
   "metadata": {
    "pycharm": {
     "is_executing": false
    }
   }
  },
  {
   "cell_type": "code",
   "execution_count": 12,
   "source": [
    "# TODO: Compute mean and variance for each classes and each features (8 values)\r\n",
    "\r\n",
    "mean_x1_C0 = np.mean(x1_not)\r\n",
    "var_x1_C0  = np.var(x1_not)\r\n",
    "\r\n",
    "mean_x1_C1 = np.mean(x1_yes)\r\n",
    "var_x1_C1  = np.var(x1_yes)\r\n",
    "\r\n",
    "mean_x2_C0 = np.mean(x2_not)\r\n",
    "var_x2_C0  = np.var(x2_not)\r\n",
    "\r\n",
    "mean_x2_C1 = np.mean(x2_yes)\r\n",
    "var_x2_C1  = np.var(x2_yes)\r\n",
    "\r\n",
    "\r\n",
    "def p_x1_C0(x):\r\n",
    "    return likelihood_univariate_gaussian(x, mean_x1_C0, var_x1_C0)\r\n",
    "\r\n",
    "def p_x2_C0(x):\r\n",
    "    return likelihood_univariate_gaussian(x, mean_x2_C0, var_x2_C0)\r\n",
    "\r\n",
    "def p_x1_C1(x):\r\n",
    "    return likelihood_univariate_gaussian(x, mean_x1_C1, var_x1_C1)\r\n",
    "\r\n",
    "def p_x2_C1(x):\r\n",
    "    return likelihood_univariate_gaussian(x, mean_x2_C1, var_x2_C1)"
   ],
   "outputs": [],
   "metadata": {
    "pycharm": {
     "is_executing": false
    }
   }
  },
  {
   "cell_type": "code",
   "execution_count": 13,
   "source": [
    "def g_bayes_classifier_x1(x1, x2, PC0=PC0, PC1=PC1):\r\n",
    "    \"\"\"Bayes with feature x1\"\"\"\r\n",
    "    return 0 if p_x1_C0(x1) * PC0 > p_x1_C1(x1) * PC1 else 1\r\n",
    "\r\n",
    "def g_bayes_classifier_x2(x1, x2, PC0=PC0, PC1=PC1):\r\n",
    "    \"\"\"Bayes with feature x2\"\"\"\r\n",
    "    return 0 if p_x2_C0(x2) * PC0 > p_x2_C1(x2) * PC1 else 1\r\n",
    "\r\n",
    "def g_bayes_classifier_x1_x2(x1, x2, PC0=PC0, PC1=PC1):\r\n",
    "    \"\"\"Bayes with feature x1 and x2\"\"\"\r\n",
    "    return 0 if (p_x1_C0(x1) * PC0 * p_x2_C0(x2) * PC0) > (p_x1_C1(x1) * PC1 * p_x2_C1(x2) * PC1) else 1"
   ],
   "outputs": [],
   "metadata": {}
  },
  {
   "cell_type": "code",
   "execution_count": 14,
   "source": [
    "# TODO: predict on test set in the 3 cases\r\n",
    "\r\n",
    "predicted_v1 = predict(X_test,g_bayes_classifier_x1)\r\n",
    "\r\n",
    "predicted_v2 = predict(X_test,g_bayes_classifier_x2)\r\n",
    "\r\n",
    "predicted_v3 = predict(X_test,g_bayes_classifier_x1_x2)\r\n",
    "\r\n",
    "\r\n",
    "print(f\"accuracy with x1 :\\n{accuracy_score(y_test, predicted_v1)}\")\r\n",
    "print(f\"accuracy with x2 :\\n{accuracy_score(y_test, predicted_v2)}\")\r\n",
    "print(f\"accuracy with x1 and x2 :\\n{accuracy_score(y_test, predicted_v3)}\")"
   ],
   "outputs": [
    {
     "output_type": "stream",
     "name": "stdout",
     "text": [
      "accuracy with x1 :\n",
      "0.71\n",
      "accuracy with x2 :\n",
      "0.72\n",
      "accuracy with x1 and x2 :\n",
      "0.92\n"
     ]
    }
   ],
   "metadata": {}
  },
  {
   "cell_type": "code",
   "execution_count": null,
   "source": [],
   "outputs": [],
   "metadata": {}
  }
 ],
 "metadata": {
  "kernelspec": {
   "name": "python3",
   "display_name": "Python 3.8.2 64-bit"
  },
  "language_info": {
   "codemirror_mode": {
    "name": "ipython",
    "version": 3
   },
   "file_extension": ".py",
   "mimetype": "text/x-python",
   "name": "python",
   "nbconvert_exporter": "python",
   "pygments_lexer": "ipython3",
   "version": "3.8.2"
  },
  "pycharm": {
   "stem_cell": {
    "cell_type": "raw",
    "metadata": {
     "collapsed": false
    },
    "source": []
   }
  },
  "interpreter": {
   "hash": "5486ee6794f552b85e6a783c5dd349909cb0c6d74537eceaf7e59c953bfbe598"
  }
 },
 "nbformat": 4,
 "nbformat_minor": 1
}