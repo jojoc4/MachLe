{
 "cells": [
  {
   "cell_type": "markdown",
   "id": "ca7912b1",
   "metadata": {},
   "source": [
    "Jonatan Baumgartner Massimo De Santis Florian Feuillade"
   ]
  },
  {
   "cell_type": "markdown",
   "id": "33b31583",
   "metadata": {},
   "source": [
    "# Exercise 1 - Analysis"
   ]
  },
  {
   "cell_type": "markdown",
   "id": "51225f27",
   "metadata": {},
   "source": [
    "The bank UBS is offering to its client the possibility to invest money in funds. See https://fundgate.ubs.com/. There are thousands of investment funds available. Clients, according to their profile, will be more or less inclined to invest in a given fund, according to the fund characteristics. For example, a younger client with no child is potentially more interested into funds composed with stocks, showing higher risks but also higher potential returns. A family father will be more inclined to invest into low-risk funds. UBS want to build a system taking as input a set of values characterizing the fund and a set of values defining the client profile.\n",
    "\n",
    "An investment fund can be characterized by the following elements: \n",
    "\n",
    "- The name of the fund.\n",
    "- The current value of 1 share in the fund, expressed in CHF.\n",
    "- The proportion of stock and bonds composing the fund (2 values in percentage).\n",
    "- A vector of float values with the 5 last yearly returns over years from 2015 to 2019 (5 values expressed in percentage).\n",
    "- A level of risk expressed with A, B, C, D, E with A representing the highest risk and E representing the lowest risk level.\n",
    "- A sectorial information such as technology, pharmaceutical, financial. There are 24 different sectors available in UBS funds.\n",
    "\n",
    "A client profile contains the following information: \n",
    "\n",
    "- First name and last name of the client.\n",
    "- The mother tongue of the client (mostly de, fr, it and en but other languages are present).\n",
    "- The age of the client.\n",
    "- The number of children of the client.\n",
    "- The current wealth of the client that could be used to buy funds, expressed in CHF (total of cash available in the different accounts, not yet invested in funds).\n",
    "- The postal code of the address of the client.\n",
    "- A level of acceptance to risk expressed with A, B, C, D, E with A representing the highest level of acceptance of risk and E representing the lowest acceptance of risk.\n",
    "\n",
    "Answer the following questions:\n",
    "\n",
    "1. For each available information in the fund and client profile, explain how you would prepare the data: encoding, normalization, outlier treatment, etc.\n",
    "2. How could you collect targets (output of the system) to train the system? How would you prepare the different sets?\n",
    "\n",
    "**Be as comprehensive as possible.** Imagine that you give your analysis to your trainee: he must be able to implement the system from it."
   ]
  },
  {
   "cell_type": "markdown",
   "id": "7cb6b792",
   "metadata": {},
   "source": [
    "---"
   ]
  },
  {
   "cell_type": "markdown",
   "id": "16f4c4b4",
   "metadata": {},
   "source": [
    "**For each available information in the fund and client profile, explain how you would prepare the data: encoding, normalization, outlier treatment, etc.**"
   ]
  },
  {
   "cell_type": "markdown",
   "id": "e1527821",
   "metadata": {},
   "source": [
    "- Nom du fond: Il n'est pas nécessaire de garder ces données\n",
    "- valeur d'une part: Z-norm, minimise l'importance des valeurs extrèmes.\n",
    "- proportions:, rien, les données se trouvent déjà entre 0 et 1\n",
    "- intérets: on ne connait pas le max, on peut donc faire une z-norm\n",
    "- risque: encodage linéaire, A=1 et E=0\n",
    "- secteur: la liste de mot est finie mais on ne peut pas convenir d'ordre, il convient donc de faire un 1-hot encoding\n",
    "- Nom du client: Il n'est pas nécessaire de garder ces données\n",
    "- langue: 1-hot encoding\n",
    "- age: normalisation min-max, les personnes vivent rarement plus de 100 ans et faire du clipping pour les ages trop grand\n",
    "- nombre d'enfants: la plupart des personnes ayant en moyenne 2 enfants, on peut ajouter + 0.0001 et fair un log scaling pour rammener les valeurs dans de bonne proportions.\n",
    "- fortune: min-max avec clipping des valeurs extrèmes\n",
    "- code postal: on pourrait grader les deux premier chiffres et faire du 1-hot encoding sur la région\n",
    "- risque: encodage linéaire A=1 E=0"
   ]
  },
  {
   "cell_type": "markdown",
   "id": "c386d8fc",
   "metadata": {},
   "source": [
    "**How could you collect targets (output of the system) to train the system? How would you prepare the different sets?**"
   ]
  },
  {
   "cell_type": "markdown",
   "id": "0ec9e135",
   "metadata": {},
   "source": [
    "On peut utiliser les données des clients utiilisant déjà les services de la banque. ou faire appelle à un sondage pour leur demander si ils participerait à tel et tel fond. Une fois un fond consseilé, on peut enrichir le système en lui disant si le client a accepté ou non la proposition."
   ]
  },
  {
   "cell_type": "code",
   "execution_count": null,
   "id": "3567416e",
   "metadata": {},
   "outputs": [],
   "source": []
  }
 ],
 "metadata": {
  "kernelspec": {
   "display_name": "Python 3 (ipykernel)",
   "language": "python",
   "name": "python3"
  },
  "language_info": {
   "codemirror_mode": {
    "name": "ipython",
    "version": 3
   },
   "file_extension": ".py",
   "mimetype": "text/x-python",
   "name": "python",
   "nbconvert_exporter": "python",
   "pygments_lexer": "ipython3",
   "version": "3.9.6"
  }
 },
 "nbformat": 4,
 "nbformat_minor": 5
}
