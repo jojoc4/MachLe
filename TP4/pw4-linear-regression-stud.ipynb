{
 "cells": [
  {
   "cell_type": "markdown",
   "id": "14d77eda",
   "metadata": {},
   "source": [
    "Jonatan Baumgartner Massimo De Santis Florian Feuillade"
   ]
  },
  {
   "cell_type": "markdown",
   "id": "18bdba27",
   "metadata": {},
   "source": [
    "# PW4 - Linear Regression"
   ]
  },
  {
   "cell_type": "markdown",
   "id": "3629bfdf",
   "metadata": {},
   "source": [
    "## Imports"
   ]
  },
  {
   "cell_type": "code",
   "execution_count": 1,
   "id": "d6eb2aab",
   "metadata": {},
   "outputs": [],
   "source": [
    "import random\n",
    "import pandas as pd\n",
    "import numpy as np\n",
    "from numpy.linalg import inv\n",
    "import matplotlib.pyplot as plt"
   ]
  },
  {
   "cell_type": "markdown",
   "id": "e69e5d68",
   "metadata": {},
   "source": [
    "## Load data"
   ]
  },
  {
   "cell_type": "markdown",
   "id": "ba14bf9f",
   "metadata": {},
   "source": [
    "Define the path to the file containing the data"
   ]
  },
  {
   "cell_type": "code",
   "execution_count": 2,
   "id": "5f3f924f",
   "metadata": {},
   "outputs": [],
   "source": [
    "datafile = \"lausanne-appart.csv\""
   ]
  },
  {
   "cell_type": "markdown",
   "id": "adfab574",
   "metadata": {},
   "source": [
    "Read the data"
   ]
  },
  {
   "cell_type": "code",
   "execution_count": 3,
   "id": "5108e239",
   "metadata": {},
   "outputs": [],
   "source": [
    "dataset = pd.read_csv(datafile)"
   ]
  },
  {
   "cell_type": "markdown",
   "id": "5a97d4cc",
   "metadata": {},
   "source": [
    "Display first rows"
   ]
  },
  {
   "cell_type": "code",
   "execution_count": 4,
   "id": "34222aff",
   "metadata": {},
   "outputs": [
    {
     "data": {
      "text/plain": "   living_area  nb_rooms  rent_price\n0           69       3.0        1810\n1           95       3.5        2945\n2           21       1.5         685\n3           20       1.0         720\n4           33       1.5         830",
      "text/html": "<div>\n<style scoped>\n    .dataframe tbody tr th:only-of-type {\n        vertical-align: middle;\n    }\n\n    .dataframe tbody tr th {\n        vertical-align: top;\n    }\n\n    .dataframe thead th {\n        text-align: right;\n    }\n</style>\n<table border=\"1\" class=\"dataframe\">\n  <thead>\n    <tr style=\"text-align: right;\">\n      <th></th>\n      <th>living_area</th>\n      <th>nb_rooms</th>\n      <th>rent_price</th>\n    </tr>\n  </thead>\n  <tbody>\n    <tr>\n      <th>0</th>\n      <td>69</td>\n      <td>3.0</td>\n      <td>1810</td>\n    </tr>\n    <tr>\n      <th>1</th>\n      <td>95</td>\n      <td>3.5</td>\n      <td>2945</td>\n    </tr>\n    <tr>\n      <th>2</th>\n      <td>21</td>\n      <td>1.5</td>\n      <td>685</td>\n    </tr>\n    <tr>\n      <th>3</th>\n      <td>20</td>\n      <td>1.0</td>\n      <td>720</td>\n    </tr>\n    <tr>\n      <th>4</th>\n      <td>33</td>\n      <td>1.5</td>\n      <td>830</td>\n    </tr>\n  </tbody>\n</table>\n</div>"
     },
     "execution_count": 4,
     "metadata": {},
     "output_type": "execute_result"
    }
   ],
   "source": [
    "dataset.head()"
   ]
  },
  {
   "cell_type": "markdown",
   "id": "2ec4b8eb",
   "metadata": {},
   "source": [
    "## Exercise 1 - Visualize the data"
   ]
  },
  {
   "cell_type": "markdown",
   "id": "dbf6b9cf",
   "metadata": {},
   "source": [
    "a) Plot a histogram to visualize the distribution of the renting price"
   ]
  },
  {
   "cell_type": "code",
   "execution_count": 5,
   "id": "ad07d4cd",
   "metadata": {},
   "outputs": [
    {
     "data": {
      "text/plain": "Text(0, 0.5, 'Number of flat')"
     },
     "execution_count": 5,
     "metadata": {},
     "output_type": "execute_result"
    },
    {
     "data": {
      "text/plain": "<Figure size 432x288 with 1 Axes>",
      "image/png": "[encoded data removed]"
     },
     "metadata": {
      "needs_background": "light"
     },
     "output_type": "display_data"
    }
   ],
   "source": [
    "plt.hist(dataset[\"rent_price\"])\n",
    "plt.title(\"Distribution of renting prices\")\n",
    "plt.xlabel(\"price\")\n",
    "plt.ylabel(\"Number of flat\")"
   ]
  },
  {
   "cell_type": "markdown",
   "id": "602770ae",
   "metadata": {},
   "source": [
    "b) Plot a histogram to visualize the distribution of the living area"
   ]
  },
  {
   "cell_type": "code",
   "execution_count": 6,
   "id": "ac0c9f07",
   "metadata": {},
   "outputs": [
    {
     "data": {
      "text/plain": "Text(0, 0.5, 'Number of flat')"
     },
     "execution_count": 6,
     "metadata": {},
     "output_type": "execute_result"
    },
    {
     "data": {
      "text/plain": "<Figure size 432x288 with 1 Axes>",
      "image/png": "[encoded data removed]"
     },
     "metadata": {
      "needs_background": "light"
     },
     "output_type": "display_data"
    }
   ],
   "source": [
    "plt.hist(dataset[\"living_area\"])\n",
    "plt.title(\"Distribution of living area\")\n",
    "plt.xlabel(\"area (m2)\")\n",
    "plt.ylabel(\"Number of flat\")"
   ]
  },
  {
   "cell_type": "markdown",
   "id": "b9a954dd",
   "metadata": {},
   "source": [
    "c) Plot a scatter plot of renting price as a function of living area"
   ]
  },
  {
   "cell_type": "code",
   "execution_count": 7,
   "id": "6d015af9",
   "metadata": {},
   "outputs": [
    {
     "data": {
      "text/plain": "Text(0, 0.5, 'Price')"
     },
     "execution_count": 7,
     "metadata": {},
     "output_type": "execute_result"
    },
    {
     "data": {
      "text/plain": "<Figure size 432x288 with 1 Axes>",
      "image/png": "[encoded data removed]"
     },
     "metadata": {
      "needs_background": "light"
     },
     "output_type": "display_data"
    }
   ],
   "source": [
    "plt.scatter(dataset[\"living_area\"], dataset['rent_price'])\n",
    "plt.title(\"Price as y = p(living area)\")\n",
    "plt.xlabel(\"Living area\")\n",
    "plt.ylabel(\"Price\")"
   ]
  },
  {
   "cell_type": "markdown",
   "id": "9c787c4b",
   "metadata": {},
   "source": [
    "## Exercise 2 - Normal equations for linear regression"
   ]
  },
  {
   "cell_type": "markdown",
   "id": "859bbd89",
   "metadata": {},
   "source": [
    "a) Implement the closed form solution to this problem using the following normal equation:"
   ]
  },
  {
   "cell_type": "markdown",
   "id": "cf1d5eda",
   "metadata": {},
   "source": [
    "<div><div style=\"display: table-cell; width: 100%;\"><center>$\\theta = (X^{T}X)^{-1}X^{T}\\vec{y}$</center></div><div style=\"display: table-cell; width: 100%;\">$(3)$</div></div>"
   ]
  },
  {
   "cell_type": "markdown",
   "id": "c3c8e4c1",
   "metadata": {},
   "source": [
    "Assuming $x$ is the living area and $y$ is the renting price. Use `numpy` for the vector operations. Plot the computed line on top of the scatter plot of exercise 1."
   ]
  },
  {
   "cell_type": "code",
   "execution_count": 10,
   "id": "19ffbbd9",
   "metadata": {},
   "outputs": [
    {
     "data": {
      "text/plain": "array([240.07710727,  26.33242457])"
     },
     "execution_count": 10,
     "metadata": {},
     "output_type": "execute_result"
    }
   ],
   "source": [
    "X0=np.ones(len(dataset[\"living_area\"].values))\n",
    "X1=dataset[\"living_area\"].values\n",
    "X = np.column_stack((X0, X1))\n",
    "y = dataset[\"rent_price\"].values\n",
    "XT = np.transpose(X)\n",
    "\n",
    "Xt_dot_X = XT.dot(X)\n",
    "\n",
    "tmp_inv = np.linalg.inv(Xt_dot_X)\n",
    "tmp_2 = XT.dot(y)\n",
    "\n",
    "thetas = tmp_inv.dot(tmp_2)\n",
    "thetas"
   ]
  },
  {
   "cell_type": "markdown",
   "id": "ccc5d7b9",
   "metadata": {},
   "source": [
    "b) Compute the overall cost value according to the following equation:"
   ]
  },
  {
   "cell_type": "markdown",
   "id": "31a38211",
   "metadata": {},
   "source": [
    "<div><div style=\"display: table-cell; width: 100%;\"><center>$J(\\theta) = \\frac{1}{2N} \\sum_{n=1}^{N} (h_{\\theta}(\\mathbf{x}_{n}) - y_{n})^{2}$</center></div><div style=\"display: table-cell; width: 100%;\">$(2)$</div></div>"
   ]
  },
  {
   "cell_type": "code",
   "execution_count": 12,
   "id": "db65a2fa",
   "metadata": {},
   "outputs": [
    {
     "name": "stdout",
     "output_type": "stream",
     "text": [
      "138034.95779787414\n"
     ]
    }
   ],
   "source": [
    "def j(theta, x, y, n):\n",
    "    return np.sum(((theta[0] + x*theta[1]) - y)**2) / (2*n)\n",
    "\n",
    "# x = np.reshape(dataset['living_area'].values, (len(dataset),1))\n",
    "jt = j(thetas, dataset['living_area'].values, y, len(dataset))\n",
    "print(jt)"
   ]
  },
  {
   "cell_type": "markdown",
   "id": "38fed9aa",
   "metadata": {},
   "source": [
    "## Exercise 3 - Gradient descent for linear regression"
   ]
  },
  {
   "cell_type": "markdown",
   "id": "d946ac48",
   "metadata": {},
   "source": [
    "Implement the _full batch_ gradient descent algorithm for the previous problem. As seen in the\n",
    "theory, the update rules are:"
   ]
  },
  {
   "cell_type": "markdown",
   "id": "9d1618d6",
   "metadata": {},
   "source": [
    "<div><div style=\"display: table-cell; width: 100%;\"><center>$\\theta_{0} \\leftarrow \\theta_{0} - \\alpha \\frac{1}{N} \\sum_{n=1}^{N} (h_{\\theta}(\\mathbf{x}_{n}) - y_{n})$</center></div><div style=\"display: table-cell; width: 100%;\">$(6)$</div></div>"
   ]
  },
  {
   "cell_type": "markdown",
   "id": "6c0049d3",
   "metadata": {},
   "source": [
    "<div><div style=\"display: table-cell; width: 100%;\"><center>$\\theta_{1} \\leftarrow \\theta_{1} - \\alpha \\frac{1}{N} \\sum_{n=1}^{N} (h_{\\theta}(\\mathbf{x}_{n}) - y_{n}) x_{n,1}$</center></div><div style=\"display: table-cell; width: 100%;\">$(7)$</div></div>"
   ]
  },
  {
   "cell_type": "markdown",
   "id": "3e0f8c42",
   "metadata": {},
   "source": [
    "**Remark** You need to iterate several times over the training set. If you have problems of convergence, you need to use a smaller value of $\\alpha$. Values such as $0.000001$ are common."
   ]
  },
  {
   "cell_type": "code",
   "execution_count": null,
   "id": "9ca79a3d",
   "metadata": {},
   "outputs": [],
   "source": [
    "def hTheta(theta0, theta1, x):\n",
    "    return theta0 + theta1 * x\n",
    "def gradientDescent(X, Y, alpha=0.000001, nbIter=1000):\n",
    "    N = len(X)\n",
    "    theta0 = 0 #np.random.randn(1)\n",
    "    theta1 = 0 #np.random.randn(1)\n",
    "    costs = []\n",
    "    for i in range(nbIter):\n",
    "        sumTheta0 = 0\n",
    "        sumTheta1 = 0\n",
    "        sumCost = 0\n",
    "        for i in range(N):\n",
    "            tmp = hTheta(theta0, theta1, X[i]) - Y[i]\n",
    "            sumTheta0 += tmp\n",
    "            sumTheta1 += tmp * X[i]\n",
    "            sumCost += tmp**2\n",
    "        costs.append(1 / (2*N) * sumCost)\n",
    "        theta0 = theta0 - alpha * 1/N * sumTheta0\n",
    "        theta1 = theta1 - alpha * 1/N * sumTheta1\n",
    "    return theta0, theta1, costs\n",
    "\n",
    "theta0, theta1, costs = gradientDescent(dataset['living_area'].values, y)\n",
    "print(\"Theta 0 : \", theta0)\n",
    "print(\"Theta 1 : \", theta1)"
   ]
  },
  {
   "cell_type": "markdown",
   "id": "da5121b6",
   "metadata": {},
   "source": [
    "a) Plot the cost value (Equation 2) as a function of the iterations. What do you observe?"
   ]
  },
  {
   "cell_type": "code",
   "execution_count": null,
   "id": "5a34ad43",
   "metadata": {},
   "outputs": [],
   "source": [
    "plt.plot(costs)\n",
    "plt.title(\"Cost for iterations\")\n",
    "plt.xlabel(\"iteration\")\n",
    "plt.ylabel(\"Cost\")"
   ]
  },
  {
   "cell_type": "markdown",
   "id": "63917be0",
   "metadata": {},
   "source": [
    "On voit d'abord une forte amélioration qui commence à stagner lorsqu'on s'approche de la solution optimale"
   ]
  },
  {
   "cell_type": "markdown",
   "id": "c5903f37",
   "metadata": {},
   "source": [
    "b) Imagine a stopping criterion, i.e. when do we stop iterating on the training set?"
   ]
  },
  {
   "cell_type": "markdown",
   "id": "93905b85",
   "metadata": {},
   "source": [
    "lorsque la différence de cout entre deux itération est très faible"
   ]
  },
  {
   "cell_type": "markdown",
   "id": "7667bec1",
   "metadata": {},
   "source": [
    "c) Plot the computed line $h_{\\theta}(\\mathbf{x})$ on top of the scatter plot of exercise 1."
   ]
  },
  {
   "cell_type": "code",
   "execution_count": null,
   "id": "e80c04b3",
   "metadata": {},
   "outputs": [],
   "source": [
    "plt.scatter(dataset['living_area'].values, dataset[\"rent_price\"].values)\n",
    "x = np.linspace(0, 250)\n",
    "h = theta0 + theta1*x\n",
    "plt.plot(x, h, color=\"red\", label=\"y=h(x)\")\n",
    "plt.title(\"Prediction line\")\n",
    "plt.xlabel(\"Living area\")\n",
    "plt.ylabel(\"Rent price\")\n",
    "plt.legend()"
   ]
  },
  {
   "cell_type": "markdown",
   "id": "d1fdf27b",
   "metadata": {},
   "source": [
    "d) Compute the final cost value according to Equation 2 and compare it to the one of exercise 2. What can you conclude?"
   ]
  },
  {
   "cell_type": "code",
   "execution_count": null,
   "id": "5e594f32",
   "metadata": {},
   "outputs": [],
   "source": [
    "costs[-1]"
   ]
  },
  {
   "cell_type": "markdown",
   "id": "cd10b91b",
   "metadata": {},
   "source": [
    "le cout de l'ex3 144159 est plus faible que celui de l'ex2 276588446. le déscente de gradient fonctionne donc mieux."
   ]
  },
  {
   "cell_type": "markdown",
   "id": "54727ff1",
   "metadata": {},
   "source": [
    "## Exercise 4 - Stochastic gradient descent for linear regression"
   ]
  },
  {
   "cell_type": "markdown",
   "id": "32a00957",
   "metadata": {},
   "source": [
    "Implement the stochastic gradient descent algorithm for the previous problem. As seen in the theory, the update rules are:"
   ]
  },
  {
   "cell_type": "markdown",
   "id": "636920d2",
   "metadata": {},
   "source": [
    "<div><div style=\"display: table-cell; width: 100%;\"><center>$\\theta_{i} \\leftarrow \\theta_{i} - \\alpha (h_{\\theta}(\\mathbf{x}_{n}) - y_{n}) x_{n,i}$</center></div><div style=\"display: table-cell; width: 100%;\">$(8)$</div></div>"
   ]
  },
  {
   "cell_type": "code",
   "execution_count": null,
   "id": "3f693388",
   "metadata": {},
   "outputs": [],
   "source": [
    "def hTheta(theta0, theta1, x):\n",
    "    return theta0 + theta1 * x\n",
    "\n",
    "def gradientDescent(X, Y, alpha=0.000001, nbIter=500):\n",
    "    N = len(X)\n",
    "    theta0 = 0 #np.random.randn(1)\n",
    "    theta1 = 0 #np.random.randn(1)\n",
    "    costs = []\n",
    "    for i in range(nbIter):\n",
    "        index = np.random.randint(0, N)\n",
    "        tmp = hTheta(theta0, theta1, X[index]) - Y[index]\n",
    "        sumCost = sum(map(lambda i : hTheta(theta0, theta1, X[i]) - Y[i], range(N)))\n",
    "        costs.append(1 / (2*N) *  sumCost**2)\n",
    "        theta0 = theta0 - alpha  * tmp\n",
    "        theta1 = theta1 - alpha * tmp * X[index]\n",
    "    return theta0, theta1, costs\n",
    "\n",
    "theta0, theta1, costs = gradientDescent(dataset['living_area'].values, dataset[\"rent_price\"].values)"
   ]
  },
  {
   "cell_type": "code",
   "execution_count": null,
   "id": "7954a32f",
   "metadata": {},
   "outputs": [],
   "source": [
    "plt.plot(costs)\n",
    "plt.title(\"Cost for iterations\")\n",
    "plt.xlabel(\"iteration\")\n",
    "plt.ylabel(\"Cost\")"
   ]
  },
  {
   "cell_type": "markdown",
   "id": "cb73d7c1",
   "metadata": {},
   "source": [
    "a) Plot the computed line $h_{\\theta}(\\mathbf{x})$ on top of the scatter plot of exercise 1."
   ]
  },
  {
   "cell_type": "code",
   "execution_count": null,
   "id": "f73c6af3",
   "metadata": {},
   "outputs": [],
   "source": [
    "plt.scatter(dataset['living_area'].values, dataset[\"rent_price\"].values)\n",
    "x = np.linspace(0, 250)\n",
    "y = theta0 + theta1*x\n",
    "plt.plot(x, y, color=\"red\", label=\"computed line\")\n",
    "plt.title(\"gradient stochastique y=h(x)\")\n",
    "plt.xlabel(\"Living area\")\n",
    "plt.ylabel(\"Rent price\")\n",
    "plt.legend()"
   ]
  },
  {
   "cell_type": "markdown",
   "id": "16e1eec7",
   "metadata": {},
   "source": [
    "b) How many samples do you need to visit for reaching the convergence?"
   ]
  },
  {
   "cell_type": "markdown",
   "id": "fd7870eb",
   "metadata": {},
   "source": [
    "Cela dépends de la convergence voulue (environ 400)"
   ]
  },
  {
   "cell_type": "markdown",
   "id": "c185d7bc",
   "metadata": {},
   "source": [
    "c) What kind of stopping criterion could we use here?"
   ]
  },
  {
   "cell_type": "markdown",
   "id": "235f3ac0",
   "metadata": {},
   "source": [
    "Comme avant"
   ]
  },
  {
   "cell_type": "markdown",
   "id": "5e7ce003",
   "metadata": {},
   "source": [
    "d) Compute the final cost value according to Equation 2 and compare it to the one of exercise 2 and 3. What can you conclude?"
   ]
  },
  {
   "cell_type": "code",
   "execution_count": null,
   "id": "dbcb6f22",
   "metadata": {},
   "outputs": [],
   "source": [
    "costs[-1]"
   ]
  },
  {
   "cell_type": "markdown",
   "id": "27a8e7fd",
   "metadata": {},
   "source": [
    "le cout est très légerement supérieur à avant. le gain de temps par rapport à l'augmentation de cout est apréciable."
   ]
  },
  {
   "cell_type": "markdown",
   "id": "a8a85676",
   "metadata": {},
   "source": [
    "## Exercise 5 - Review questions"
   ]
  },
  {
   "cell_type": "markdown",
   "id": "84f82d3d",
   "metadata": {},
   "source": [
    "a) The linear regression has a mathematical _closed form_ solution. Then, in which conditions would we prefer a gradient descent algorithm to compute the regression model?"
   ]
  },
  {
   "cell_type": "markdown",
   "id": "eecbe019",
   "metadata": {},
   "source": [
    "Si le problème n'est pas linéair"
   ]
  },
  {
   "cell_type": "markdown",
   "id": "3696b258",
   "metadata": {},
   "source": [
    "b) Outliers in a data set can be defined as values that are out of the \"usual\" range in comparison with other values. They typically come from noise or anomalies in the data capturing process. What is the impact of an outlier in the stochastic gradient descent process? What if we have many outliers? _Hint_: look at the equation of the MSE, and to the equation of the update rule."
   ]
  },
  {
   "cell_type": "markdown",
   "id": "4873219d",
   "metadata": {},
   "source": [
    "Ces valeurs peuvent impacter temporairement le calul. il vaudrait mieux les filtrer lors du pré traitement des données. dans le cas du stochastique, si une de ces valeurs est utilisé, celà va faire un énorme écart. plus on a de outliers plus le problème est amplifié"
   ]
  },
  {
   "cell_type": "markdown",
   "id": "22dce221",
   "metadata": {},
   "source": [
    "c) In the case of stochastic gradient descent, what is the danger of having a too large or too small $\\alpha$ value? Could you think of a better (more advanced) strategy as the one stated in Slide 36?"
   ]
  },
  {
   "cell_type": "markdown",
   "id": "d1536554",
   "metadata": {},
   "source": [
    "Trop grand, l'apprentissage sera trop variable qui ne va pas forcément bien converger\n",
    "Trop petit, cela créera des lenteur et augment les chances de tomber dans un minimum local\n",
    "\n",
    "On pourrait commencer avec un grand alpha puis le diminuer petit à petit"
   ]
  },
  {
   "cell_type": "markdown",
   "id": "07bdad8b",
   "metadata": {},
   "source": [
    "d) Let's assume we expect that the target variable $y$ has a dependency to the square and to the cube of one of the feature $x_d$ in our multi-variable training set $(x_1, \\ldots, x_d, \\ldots, x_D)$. How would you proceed? Do we need to take precautions in terms of numerical stability?"
   ]
  },
  {
   "cell_type": "markdown",
   "id": "d4f242c5",
   "metadata": {},
   "source": [
    "On ajoute de nouvelle features Xd^2 ou 3. "
   ]
  },
  {
   "cell_type": "markdown",
   "id": "b7cf619b",
   "metadata": {},
   "source": [
    "e) _Advanced_. Could we use a descent algorithm without computing the gradient? If yes, give a pseudo code of the algorithm to find $(\\theta_{0}, \\theta_{1})$ using a linear regression $h_{\\theta}(x) = \\theta_0 + \\theta_1 x$."
   ]
  },
  {
   "cell_type": "markdown",
   "id": "89317af1",
   "metadata": {},
   "source": [
    "_Your answer here_"
   ]
  },
  {
   "cell_type": "code",
   "execution_count": null,
   "id": "2b0997fa",
   "metadata": {},
   "outputs": [],
   "source": []
  }
 ],
 "metadata": {
  "kernelspec": {
   "display_name": "Python 3 (ipykernel)",
   "language": "python",
   "name": "python3"
  },
  "language_info": {
   "codemirror_mode": {
    "name": "ipython",
    "version": 3
   },
   "file_extension": ".py",
   "mimetype": "text/x-python",
   "name": "python",
   "nbconvert_exporter": "python",
   "pygments_lexer": "ipython3",
   "version": "3.9.6"
  }
 },
 "nbformat": 4,
 "nbformat_minor": 5
}